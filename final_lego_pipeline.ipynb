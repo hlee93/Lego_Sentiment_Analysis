{
 "cells": [
  {
   "cell_type": "markdown",
   "id": "b9cb1703-b7f1-43bf-989d-9d5290aa1f53",
   "metadata": {},
   "source": [
    "# Lego Marketing Sentiment\n",
    "\n",
    "## <em>Using Sentiment Analysis to analyse consumer sentiment towards Lego marketing campaigns.</em>\n",
    "\n",
    "The libraries used for this project include:\n",
    "- Python v3.9.1\n",
    "- PySpark v3.4.0\n",
    "- Emoji\n",
    "- Instaloader (as example of getting individual Instagram posts)\n",
    "- Seaborn\n",
    "\n",
    "## Project Features\n",
    "\n",
    "- Ingestion of data using structured streaming dataframes\n",
    "- Logistic Regression classifier model for sentiment analysis\n",
    "- Sample Dashboard widget demo\n",
    "\n",
    "## Why Logistic Regression?\n",
    "\n",
    "- binary data classification (positive or negative)\n",
    "- Handles noisier data better\n",
    "- Fast, needs less computational resource\n",
    "\n",
    "\n",
    "> **PLEASE NOTE**\n",
    "> An official social media api was not used for the following reasons:\n",
    ">\n",
    "> - Twitter has changed the data available for free tier, so streaming tweets wasn't possible.\n",
    "> - Instagram and Facebook have a manual authorisation process which would not be completed before project due date.\n",
    ">\n",
    "> Thus, an Instagram comment dataset csv was created, and will be used to simulate streaming data.\n",
    "\n",
    "The training set for this project can be found here: [Sentiment401](http://help.sentiment140.com/for-students/])"
   ]
  },
  {
   "cell_type": "code",
   "execution_count": 1,
   "id": "e3770634-56fa-4a76-ab7b-642270f2d89a",
   "metadata": {},
   "outputs": [],
   "source": [
    "#Import libraries\n",
    "from pyspark import SparkContext\n",
    "from pyspark.sql.session import SparkSession\n",
    "from pyspark.streaming import StreamingContext\n",
    "import pyspark.sql.types as tp\n",
    "from pyspark.ml import Pipeline\n",
    "from pyspark.ml.feature import StringIndexer, VectorAssembler\n",
    "from pyspark.ml.feature import StopWordsRemover, Word2Vec, RegexTokenizer\n",
    "from pyspark.ml.classification import LogisticRegression\n",
    "from pyspark.sql import Row\n",
    "from pyspark.sql.functions import col, udf, lit\n",
    "from pyspark.sql.functions import lower, countDistinct\n",
    "from pyspark.sql.functions import regexp_replace\n",
    "from pyspark.ml.feature import HashingTF, IDF, Tokenizer, CountVectorizer\n",
    "from pyspark.ml.evaluation import BinaryClassificationEvaluator\n",
    "import shutil\n",
    "import re\n",
    "import operator\n",
    "import functools\n",
    "import requests\n",
    "import json\n",
    "import time\n",
    "import instaloader\n",
    "from bs4 import BeautifulSoup\n",
    "import emoji\n",
    "import os\n",
    "import sys\n",
    "import pandas as pd\n",
    "import seaborn as sns\n",
    "import matplotlib.pyplot as plt\n",
    "import nest_asyncio\n",
    "\n",
    "os.environ['PYSPARK_PYTHON'] = sys.executable\n",
    "os.environ['PYSPARK_DRIVER_PYTHON'] = sys.executable\n",
    "\n",
    "#Below prevents errors when running spark sessions in jupyter\n",
    "nest_asyncio.apply()\n"
   ]
  },
  {
   "cell_type": "code",
   "execution_count": 2,
   "id": "81fc490f-ba44-4656-84db-59fe2c4b62cd",
   "metadata": {},
   "outputs": [],
   "source": [
    "# initializing spark session\n",
    "sc = SparkContext(appName=\"LegoSentiment\")\n",
    "spark = SparkSession(sc)"
   ]
  },
  {
   "cell_type": "markdown",
   "id": "8aa53eb8-6794-4389-be2b-0a3949064fc4",
   "metadata": {},
   "source": [
    "## Model Pipeline Definition, Training and Evaluation\n",
    "\n",
    "See Above for training dataset used."
   ]
  },
  {
   "cell_type": "code",
   "execution_count": 3,
   "id": "b1ce5c20-0b7e-4be3-888f-af66a492c6cd",
   "metadata": {},
   "outputs": [],
   "source": [
    "# define schemas for training and instagram post data\n",
    "train_schema = tp.StructType([\n",
    "    tp.StructField(name= 'polarity', dataType= tp.IntegerType(),  nullable= True),\n",
    "    tp.StructField(name= 'comment_id', dataType= tp.IntegerType(),   nullable= True),\n",
    "    tp.StructField(name= 'date', dataType= tp.TimestampType(),  nullable= True),\n",
    "    tp.StructField(name= 'query', dataType= tp.StringType(),   nullable= True),\n",
    "    tp.StructField(name= 'username', dataType= tp.StringType(),   nullable= True),\n",
    "    tp.StructField(name= 'comment', dataType= tp.StringType(),   nullable= True)                \n",
    "  ,\n",
    "])\n",
    "\n",
    "insta_schema = tp.StructType([\n",
    "    tp.StructField(name= 'id', dataType= tp.IntegerType(),  nullable= True),\n",
    "    tp.StructField(name= 'username', dataType= tp.StringType(),   nullable= True),\n",
    "    tp.StructField(name= 'comment', dataType= tp.StringType(),   nullable= True),\n",
    "    tp.StructField(name= 'comment_id', dataType= tp.IntegerType(),   nullable= True),\n",
    "    tp.StructField(name= 'profile_url', dataType= tp.StringType(),   nullable= True),\n",
    "    tp.StructField(name= 'comment_url', dataType= tp.StringType(),   nullable= True)                \n",
    "  ,\n",
    "])"
   ]
  },
  {
   "cell_type": "code",
   "execution_count": 4,
   "id": "15c62c55-78a2-47a3-a08c-0efcdd687195",
   "metadata": {},
   "outputs": [],
   "source": [
    "#Load training data\n",
    "training_data = spark.read.csv('C:/Users/hayle/Desktop/lego_post_data/sentiment_model_data/training_data.csv',schema = train_schema,header=True)"
   ]
  },
  {
   "cell_type": "code",
   "execution_count": 5,
   "id": "59712dbf-a8dc-4b05-a1d5-36c7683d178e",
   "metadata": {},
   "outputs": [
    {
     "name": "stdout",
     "output_type": "stream",
     "text": [
      "+--------+----------+----+--------+---------------+--------------------+\n",
      "|polarity|comment_id|date|   query|       username|             comment|\n",
      "+--------+----------+----+--------+---------------+--------------------+\n",
      "|       0|1467810672|null|NO_QUERY|  scotthamilton|is upset that he ...|\n",
      "|       0|1467810917|null|NO_QUERY|       mattycus|@Kenichan I dived...|\n",
      "|       0|1467811184|null|NO_QUERY|        ElleCTF|my whole body fee...|\n",
      "|       0|1467811193|null|NO_QUERY|         Karoli|@nationwideclass ...|\n",
      "|       0|1467811372|null|NO_QUERY|       joy_wolf|@Kwesidei not the...|\n",
      "|       0|1467811592|null|NO_QUERY|        mybirch|         Need a hug |\n",
      "|       0|1467811594|null|NO_QUERY|           coZZ|@LOLTrish hey  lo...|\n",
      "|       0|1467811795|null|NO_QUERY|2Hood4Hollywood|@Tatiana_K nope t...|\n",
      "|       0|1467812025|null|NO_QUERY|        mimismo|@twittera que me ...|\n",
      "|       0|1467812416|null|NO_QUERY| erinx3leannexo|spring break in p...|\n",
      "|       0|1467812579|null|NO_QUERY|   pardonlauren|I just re-pierced...|\n",
      "|       0|1467812723|null|NO_QUERY|           TLeC|@caregiving I cou...|\n",
      "|       0|1467812771|null|NO_QUERY|robrobbierobert|@octolinz16 It it...|\n",
      "|       0|1467812784|null|NO_QUERY|    bayofwolves|@smarrison i woul...|\n",
      "|       0|1467812799|null|NO_QUERY|     HairByJess|@iamjazzyfizzle I...|\n",
      "|       0|1467812964|null|NO_QUERY| lovesongwriter|Hollis' death sce...|\n",
      "|       0|1467813137|null|NO_QUERY|       armotley|about to file taxes |\n",
      "|       0|1467813579|null|NO_QUERY|     starkissed|@LettyA ahh ive a...|\n",
      "|       0|1467813782|null|NO_QUERY|      gi_gi_bee|@FakerPattyPattz ...|\n",
      "|       0|1467813985|null|NO_QUERY|         quanvu|@alydesigns i was...|\n",
      "+--------+----------+----+--------+---------------+--------------------+\n",
      "only showing top 20 rows\n",
      "\n"
     ]
    }
   ],
   "source": [
    "# view the data and deal with null values\n",
    "df = training_data.na.fill('')\n",
    "df = df.na.fill(value=0)\n",
    "df.show(20)"
   ]
  },
  {
   "cell_type": "code",
   "execution_count": 6,
   "id": "d0f301f1-5ed2-4744-bbe8-775c77071cf9",
   "metadata": {},
   "outputs": [
    {
     "name": "stdout",
     "output_type": "stream",
     "text": [
      "+--------+----------+--------------------+\n",
      "|polarity|comment_id|             comment|\n",
      "+--------+----------+--------------------+\n",
      "|       0|1467810672|is upset that he ...|\n",
      "|       0|1467810917|@Kenichan I dived...|\n",
      "|       0|1467811184|my whole body fee...|\n",
      "|       0|1467811193|@nationwideclass ...|\n",
      "|       0|1467811372|@Kwesidei not the...|\n",
      "|       0|1467811592|         Need a hug |\n",
      "|       0|1467811594|@LOLTrish hey  lo...|\n",
      "|       0|1467811795|@Tatiana_K nope t...|\n",
      "|       0|1467812025|@twittera que me ...|\n",
      "|       0|1467812416|spring break in p...|\n",
      "|       0|1467812579|I just re-pierced...|\n",
      "|       0|1467812723|@caregiving I cou...|\n",
      "|       0|1467812771|@octolinz16 It it...|\n",
      "|       0|1467812784|@smarrison i woul...|\n",
      "|       0|1467812799|@iamjazzyfizzle I...|\n",
      "|       0|1467812964|Hollis' death sce...|\n",
      "|       0|1467813137|about to file taxes |\n",
      "|       0|1467813579|@LettyA ahh ive a...|\n",
      "|       0|1467813782|@FakerPattyPattz ...|\n",
      "|       0|1467813985|@alydesigns i was...|\n",
      "+--------+----------+--------------------+\n",
      "only showing top 20 rows\n",
      "\n"
     ]
    },
    {
     "data": {
      "text/plain": [
       "1048575"
      ]
     },
     "execution_count": 6,
     "metadata": {},
     "output_type": "execute_result"
    }
   ],
   "source": [
    "#Drop unneccessary colums and drop usernames to anonymise data\n",
    "df = df.drop('query')\n",
    "df = df.drop('username')\n",
    "df = df.drop('date')\n",
    "df.show(20)\n",
    "\n",
    "#How many entries in training data\n",
    "df.count()"
   ]
  },
  {
   "cell_type": "code",
   "execution_count": 7,
   "id": "110cde3f-5ed1-4763-9e09-8dcd7e0e5200",
   "metadata": {},
   "outputs": [],
   "source": [
    "#Split training data for training and testing\n",
    "(train_set, val_set, test_set) = df.randomSplit([0.98, 0.01, 0.01], seed = 2000)"
   ]
  },
  {
   "cell_type": "code",
   "execution_count": 8,
   "id": "38c47418-94cb-4b86-a1f1-61a8bdde3389",
   "metadata": {},
   "outputs": [],
   "source": [
    "#Define transformation pipeline for incoming data\n",
    "#split text into individual word tokens\n",
    "tokenizer = Tokenizer(inputCol=\"comment\", outputCol=\"words\")\n",
    "#increase memory efficiency and scalability using hashing\n",
    "hashtf = HashingTF(numFeatures=2**16, inputCol=\"words\", outputCol='tf')\n",
    "#Inverse Document Frequency, measure importance of word token in entry\n",
    "idf = IDF(inputCol='tf', outputCol=\"features\", minDocFreq=5) #minDocFreq: remove sparse terms\n",
    "#convert any categorical str vals to numerical for ML prep\n",
    "label_stringIdx = StringIndexer(inputCol = \"polarity\", outputCol = \"label\")\n",
    "#Define pipeline steps\n",
    "pipeline = Pipeline(stages=[tokenizer, hashtf, idf, label_stringIdx])"
   ]
  },
  {
   "cell_type": "code",
   "execution_count": 9,
   "id": "c3f52ebb-8db9-409f-b629-0279e9a59b48",
   "metadata": {},
   "outputs": [
    {
     "name": "stdout",
     "output_type": "stream",
     "text": [
      "finished!\n"
     ]
    }
   ],
   "source": [
    "#fit training set data to pipeline processes     \n",
    "pipelineFit = pipeline.fit(train_set)\n",
    "print('finished!')"
   ]
  },
  {
   "cell_type": "code",
   "execution_count": 10,
   "id": "c641c45f-90c7-4109-a648-9eeabd1a441a",
   "metadata": {},
   "outputs": [],
   "source": [
    "#run pipeline process on train and val set\n",
    "train_df = pipelineFit.transform(train_set)\n",
    "val_df = pipelineFit.transform(val_set)"
   ]
  },
  {
   "cell_type": "code",
   "execution_count": 11,
   "id": "009df3f8-e635-4233-bde0-0bc7e4b510e6",
   "metadata": {},
   "outputs": [
    {
     "name": "stdout",
     "output_type": "stream",
     "text": [
      "+--------+----------+--------------------+--------------------+--------------------+--------------------+-----+\n",
      "|polarity|comment_id|             comment|               words|                  tf|            features|label|\n",
      "+--------+----------+--------------------+--------------------+--------------------+--------------------+-----+\n",
      "|       0|1467810672|is upset that he ...|[is, upset, that,...|(65536,[1981,3085...|(65536,[1981,3085...|  0.0|\n",
      "|       0|1467810917|@Kenichan I dived...|[@kenichan, i, di...|(65536,[2888,3924...|(65536,[2888,3924...|  0.0|\n",
      "|       0|1467811184|my whole body fee...|[my, whole, body,...|(65536,[1880,9243...|(65536,[1880,9243...|  0.0|\n",
      "|       0|1467811193|@nationwideclass ...|[@nationwideclass...|(65536,[1968,3434...|(65536,[1968,3434...|  0.0|\n",
      "|       0|1467811372|@Kwesidei not the...|[@kwesidei, not, ...|(65536,[15171,175...|(65536,[15171,175...|  0.0|\n",
      "|       0|1467811592|         Need a hug |      [need, a, hug]|(65536,[106,17625...|(65536,[106,17625...|  0.0|\n",
      "|       0|1467811594|@LOLTrish hey  lo...|[@loltrish, hey, ...|(65536,[2035,6693...|(65536,[2035,6693...|  0.0|\n",
      "|       0|1467811795|@Tatiana_K nope t...|[@tatiana_k, nope...|(65536,[8225,9533...|(65536,[8225,9533...|  0.0|\n",
      "|       0|1467812025|@twittera que me ...|[@twittera, que, ...|(65536,[2035,3403...|(65536,[2035,3403...|  0.0|\n",
      "|       0|1467812416|spring break in p...|[spring, break, i...|(65536,[5284,3026...|(65536,[5284,3026...|  0.0|\n",
      "|       0|1467812579|I just re-pierced...|[i, just, re-pier...|(65536,[19036,316...|(65536,[19036,316...|  0.0|\n",
      "|       0|1467812723|@caregiving I cou...|[@caregiving, i, ...|(65536,[8997,1127...|(65536,[8997,1127...|  0.0|\n",
      "|       0|1467812771|@octolinz16 It it...|[@octolinz16, it,...|(65536,[6589,9255...|(65536,[6589,9255...|  0.0|\n",
      "|       0|1467812784|@smarrison i woul...|[@smarrison, i, w...|(65536,[8225,1631...|(65536,[8225,1631...|  0.0|\n",
      "|       0|1467812799|@iamjazzyfizzle I...|[@iamjazzyfizzle,...|(65536,[835,18354...|(65536,[835,18354...|  0.0|\n",
      "|       0|1467812964|Hollis' death sce...|[hollis', death, ...|(65536,[1880,1265...|(65536,[1880,1265...|  0.0|\n",
      "|       0|1467813137|about to file taxes |[about, to, file,...|(65536,[13828,187...|(65536,[13828,187...|  0.0|\n",
      "|       0|1467813579|@LettyA ahh ive a...|[@lettya, ahh, iv...|(65536,[8538,1161...|(65536,[8538,1161...|  0.0|\n",
      "|       0|1467813782|@FakerPattyPattz ...|[@fakerpattypattz...|(65536,[18184,183...|(65536,[18184,183...|  0.0|\n",
      "|       0|1467813985|@alydesigns i was...|[@alydesigns, i, ...|(65536,[8225,1122...|(65536,[8225,1122...|  0.0|\n",
      "|       0|1467813992|one of my friend ...|[one, of, my, fri...|(65536,[8930,8984...|(65536,[8930,8984...|  0.0|\n",
      "|       0|1467814119|@angry_barista I ...|[@angry_barista, ...|(65536,[6241,1300...|(65536,[6241,1300...|  0.0|\n",
      "|       0|1467814180|this week is not ...|[this, week, is, ...|(65536,[338,1981,...|(65536,[338,1981,...|  0.0|\n",
      "|       0|1467814192|blagh class at 8 ...|[blagh, class, at...|(65536,[8254,2912...|(65536,[8254,2912...|  0.0|\n",
      "|       0|1467814438|I hate when I hav...|[i, hate, when, i...|(65536,[7173,1223...|(65536,[7173,1223...|  0.0|\n",
      "|       0|1467814783|Just going to cry...|[just, going, to,...|(65536,[9420,2330...|(65536,[9420,2330...|  0.0|\n",
      "|       0|1467814883|im sad now  Miss....|[im, sad, now, , ...|(65536,[16666,298...|(65536,[16666,298...|  0.0|\n",
      "|       0|1467815199|ooooh.... LOL  th...|[ooooh...., lol, ...|(65536,[1589,2727...|(65536,[1589,2727...|  0.0|\n",
      "|       0|1467815753|Meh... Almost Lov...|[meh..., almost, ...|(65536,[6261,1541...|(65536,[6261,1541...|  0.0|\n",
      "|       0|1467815923|some1 hacked my a...|[some1, hacked, m...|(65536,[1880,3421...|(65536,[1880,3421...|  0.0|\n",
      "|       0|1467815924|@alielayus I want...|[@alielayus, i, w...|(65536,[12627,176...|(65536,[12627,176...|  0.0|\n",
      "|       0|1467815988|thought sleeping ...|[thought, sleepin...|(65536,[600,11271...|(65536,[600,11271...|  0.0|\n",
      "|       0|1467816149|@julieebaby awe i...|[@julieebaby, awe...|(65536,[3736,1835...|(65536,[3736,1835...|  0.0|\n",
      "|       0|1467816665|@HumpNinja I cry ...|[@humpninja, i, c...|(65536,[5827,8449...|(65536,[5827,8449...|  0.0|\n",
      "|       0|1467816749|ok I'm sick and s...|[ok, i'm, sick, a...|(65536,[1198,1589...|(65536,[1198,1589...|  0.0|\n",
      "|       0|1467817225|@cocomix04 ill te...|[@cocomix04, ill,...|(65536,[17,8993,1...|(65536,[17,8993,1...|  0.0|\n",
      "|       0|1467817374|@MissXu sorry! be...|[@missxu, sorry!,...|(65536,[308,19247...|(65536,[308,19247...|  0.0|\n",
      "|       0|1467817502|@fleurylis I don'...|[@fleurylis, i, d...|(65536,[7221,9243...|(65536,[7221,9243...|  0.0|\n",
      "|       0|1467818007|Bed. Class 8-12. ...|[bed., class, 8-1...|(65536,[2006,2918...|(65536,[2006,2918...|  0.0|\n",
      "|       0|1467818020|really don't feel...|[really, don't, f...|(65536,[3642,6640...|(65536,[3642,6640...|  0.0|\n",
      "|       0|1467818481|He's the reason f...|[he's, the, reaso...|(65536,[1714,1880...|(65536,[1714,1880...|  0.0|\n",
      "|       0|1467818603|Sad, sad, sad. I ...|[sad,, sad,, sad....|(65536,[518,6661,...|(65536,[518,6661,...|  0.0|\n",
      "|       0|1467818900|@JonathanRKnight ...|[@jonathanrknight...|(65536,[3754,5634...|(65536,[3754,5634...|  0.0|\n",
      "|       0|1467819022|Falling asleep. J...|[falling, asleep....|(65536,[737,835,1...|(65536,[737,835,1...|  0.0|\n",
      "|       0|1467819650|@Viennah Yay! I'm...|[@viennah, yay!, ...|(65536,[10014,136...|(65536,[10014,136...|  0.0|\n",
      "|       0|1467819712|Just checked my u...|[just, checked, m...|(65536,[1603,1706...|(65536,[1603,1706...|  0.0|\n",
      "|       0|1467819812|Oh man...was iron...|[oh, man...was, i...|(65536,[3669,3802...|(65536,[3669,3802...|  0.0|\n",
      "|       0|1467820206|is strangely sad ...|[is, strangely, s...|(65536,[9564,1539...|(65536,[9564,1539...|  0.0|\n",
      "|       0|1467820835|@tea oh! i'm so s...|[@tea, oh!, i'm, ...|(65536,[8225,1001...|(65536,[8225,1001...|  0.0|\n",
      "|       0|1467820863|Broadband plan 'a...|[broadband, plan,...|(65536,[1541,4580...|(65536,[1541,4580...|  0.0|\n",
      "+--------+----------+--------------------+--------------------+--------------------+--------------------+-----+\n",
      "only showing top 50 rows\n",
      "\n"
     ]
    }
   ],
   "source": [
    "#show transformed training set\n",
    "train_df.show(50)"
   ]
  },
  {
   "cell_type": "code",
   "execution_count": 12,
   "id": "7dbd1b4a-9342-4517-9ed6-963d8f70bb2d",
   "metadata": {},
   "outputs": [],
   "source": [
    "#instantiate and train logistic regression model\n",
    "lr = LogisticRegression(maxIter=100)\n",
    "lrModel = lr.fit(train_df)\n",
    "predictions = lrModel.transform(val_df)"
   ]
  },
  {
   "cell_type": "code",
   "execution_count": 13,
   "id": "a949e999-3cd2-4878-ab54-4f777abf6d8f",
   "metadata": {},
   "outputs": [
    {
     "name": "stdout",
     "output_type": "stream",
     "text": [
      "+--------+----------+--------------------+--------------------+--------------------+--------------------+-----+--------------------+--------------------+----------+\n",
      "|polarity|comment_id|             comment|               words|                  tf|            features|label|       rawPrediction|         probability|prediction|\n",
      "+--------+----------+--------------------+--------------------+--------------------+--------------------+-----+--------------------+--------------------+----------+\n",
      "|       0|1467842568|i miss kenny powers |[i, miss, kenny, ...|(65536,[3694,1903...|(65536,[3694,1903...|  0.0|[4.08414673871398...|[0.98344130701740...|       0.0|\n",
      "|       0|1467872638|@CaitlinOConnor i...|[@caitlinoconnor,...|(65536,[14013,190...|(65536,[14013,190...|  0.0|[3.09749637428182...|[0.95678935473982...|       0.0|\n",
      "|       0|1467942658|Going to sound va...|[going, to, sound...|(65536,[18918,211...|(65536,[18918,211...|  0.0|[3.75503819877028...|[0.97713546326717...|       0.0|\n",
      "|       0|1467947104|hates waiting for...|[hates, waiting, ...|(65536,[4120,7987...|(65536,[4120,7987...|  0.0|[3.05653921501823...|[0.95506400499148...|       0.0|\n",
      "|       0|1467961146|@heidimontag Laur...|[@heidimontag, la...|(65536,[2808,9712...|(65536,[2808,9712...|  0.0|[2.25218279342504...|[0.90483865214232...|       0.0|\n",
      "|       0|1467971318|vacations makes m...|[vacations, makes...|(65536,[2973,2402...|(65536,[2973,2402...|  0.0|[4.57795880427249...|[0.98982866914454...|       0.0|\n",
      "|       0|1467979782|KUTNERRRR!  WHY??...|[kutnerrrr!, , wh...|(65536,[1880,4657...|(65536,[1880,4657...|  0.0|[2.47855373885159...|[0.92262461462941...|       0.0|\n",
      "|       0|1467986889|@lilbucknuts41 no...|[@lilbucknuts41, ...|(65536,[12130,250...|(65536,[12130,250...|  0.0|[0.89274573232694...|[0.70945647017222...|       0.0|\n",
      "|       0|1467998248|@stephenkruiser I...|[@stephenkruiser,...|(65536,[10014,138...|(65536,[10014,138...|  0.0|[2.66312708159783...|[0.93481547614940...|       0.0|\n",
      "|       0|1467999819|@DAChesterFrench ...|[@dachesterfrench...|(65536,[9012,1181...|(65536,[9012,1181...|  0.0|[0.88958817178996...|[0.70880517836988...|       0.0|\n",
      "|       0|1468006137|Wrote exactly thr...|[wrote, exactly, ...|(65536,[9564,1754...|(65536,[9564,1754...|  0.0|[-0.0842753235566...|[0.47894363007681...|       1.0|\n",
      "|       0|1468043104|Keeeerrrrriiiiii!...|[keeeerrrrriiiiii...|(65536,[1880,4529...|(65536,[1880,4529...|  0.0|[1.11062236922057...|[0.75224512209260...|       0.0|\n",
      "|       0|1468043598|omg exams killed ...|[omg, exams, kill...|(65536,[835,3834,...|(65536,[835,3834,...|  0.0|[6.86035559854416...|[0.99895255727997...|       0.0|\n",
      "|       0|1468088416|If ever there was...|[if, ever, there,...|(65536,[2458,7194...|(65536,[2458,7194...|  0.0|[0.58361748109937...|[0.64189936322620...|       0.0|\n",
      "|       0|1468093291|@daydee tell it y...|[@daydee, tell, i...|(65536,[1185,1835...|(65536,[1185,1835...|  0.0|[0.85135166536239...|[0.70085060823994...|       0.0|\n",
      "|       0|1468098952|wondering why I a...|[wondering, why, ...|(65536,[1696,5964...|(65536,[1696,5964...|  0.0|[6.00687700628562...|[0.99754428113861...|       0.0|\n",
      "|       0|1468160042|oh god one of the...|[oh, god, one, of...|(65536,[5964,1001...|(65536,[5964,1001...|  0.0|[4.42758223005763...|[0.98819762860872...|       0.0|\n",
      "|       0|1468168806|I'm sitting up, u...|[i'm, sitting, up...|(65536,[10014,262...|(65536,[10014,262...|  0.0|[2.79073660415921...|[0.94217319010605...|       0.0|\n",
      "|       0|1468209131|@innocentdrinks C...|[@innocentdrinks,...|(65536,[4020,5313...|(65536,[4020,5313...|  0.0|[-0.1964052075665...|[0.45105593185639...|       1.0|\n",
      "|       0|1468210391|Back at :work, ha...|[back, at, :work,...|(65536,[1198,4967...|(65536,[1198,4967...|  0.0|[3.73823029697731...|[0.97675691844872...|       0.0|\n",
      "|       0|1468247128|Note to you all: ...|[note, to, you, a...|(65536,[7221,1760...|(65536,[7221,1760...|  0.0|[1.97646885498687...|[0.87830423638558...|       0.0|\n",
      "|       0|1468252166|JUST realized im ...|[just, realized, ...|(65536,[27576,310...|(65536,[27576,310...|  0.0|[2.50614058932021...|[0.92457117850672...|       0.0|\n",
      "|       0|1468253943|@DeiondraSanders ...|[@deiondrasanders...|(65536,[600,10014...|(65536,[600,10014...|  0.0|[3.97520735852590...|[0.98157061143659...|       0.0|\n",
      "|       0|1468257431|Okay I'm sorry th...|[okay, i'm, sorry...|(65536,[473,10014...|(65536,[473,10014...|  0.0|[4.11146841893103...|[0.98388039995014...|       0.0|\n",
      "|       0|1468267411|@msJodiOdie its s...|[@msjodiodie, its...|(65536,[5126,5394...|(65536,[5126,5394...|  0.0|[9.48477551793559...|[0.9999240056464,...|       0.0|\n",
      "|       0|1468333186|@mileycyrus http:...|[@mileycyrus, htt...|(65536,[7772,1247...|(65536,[7772,1247...|  0.0|[0.52347568159440...|[0.62796013709106...|       0.0|\n",
      "|       0|1468362047|I'm over it, but ...|[i'm, over, it,, ...|(65536,[7194,9859...|(65536,[7194,9859...|  0.0|[0.01322901748093...|[0.50330720613838...|       0.0|\n",
      "|       0|1468443823|@BlueEyedBomber E...|[@blueeyedbomber,...|(65536,[18354,253...|(65536,[18354,253...|  0.0|[0.00359556526199...|[0.50089889034708...|       0.0|\n",
      "|       0|1468452198|Is at work, think...|[is, at, work,, t...|(65536,[835,1352,...|(65536,[835,1352,...|  0.0|[5.52908334005791...|[0.99604606940737...|       0.0|\n",
      "|       0|1468460152|miss kabalin hate...|[miss, kabalin, h...|(65536,[7987,3612...|(65536,[7987,3612...|  0.0|[5.28631250306248...|[0.99496509252021...|       0.0|\n",
      "|       0|1468481907|i've lost my favo...|[i've, lost, my, ...|(65536,[3688,1806...|(65536,[3688,1806...|  0.0|[7.56313400936825...|[0.99948102410448...|       0.0|\n",
      "|       0|1468484427|can't sleep....i ...|[can't, sleep.......|(65536,[11860,122...|(65536,[11860,122...|  0.0|[3.36699533551284...|[0.96665698270904...|       0.0|\n",
      "|       0|1468485227|Entered a online ...|[entered, a, onli...|(65536,[724,2640,...|(65536,[724,2640,...|  0.0|[-1.1859807675526...|[0.23397854281590...|       1.0|\n",
      "|       0|1468492354|Pure hurt my neck...|[pure, hurt, my, ...|(65536,[10024,303...|(65536,[10024,303...|  0.0|[3.65187345105099...|[0.97471351296117...|       0.0|\n",
      "|       0|1468518013|Working rite now,...|[working, rite, n...|(65536,[5914,6661...|(65536,[5914,6661...|  0.0|[7.86333564376065...|[0.99961555897381...|       0.0|\n",
      "|       0|1468536884|@fragilemuse the ...|[@fragilemuse, th...|(65536,[16368,166...|(65536,[16368,166...|  0.0|[0.88940564144997...|[0.70876750259931...|       0.0|\n",
      "|       0|1468583468|@billbeckett Did ...|[@billbeckett, di...|(65536,[9859,1340...|(65536,[9859,1340...|  0.0|[-0.4481139823274...|[0.38980927710774...|       1.0|\n",
      "|       0|1468618608|I killed the Eggn...|[i, killed, the, ...|(65536,[1781,1880...|(65536,[1781,1880...|  0.0|[2.49193450266751...|[0.92357446082835...|       0.0|\n",
      "|       0|1468629131|The nowhere land ...|[the, nowhere, la...|(65536,[4555,1573...|(65536,[4555,1573...|  0.0|[5.44478695304779...|[0.99569981147394...|       0.0|\n",
      "|       0|1468680347|Mums soup made my...|[mums, soup, made...|(65536,[9712,1119...|(65536,[9712,1119...|  0.0|[3.58924927240744...|[0.97312325336758...|       0.0|\n",
      "|       0|1468684447|im having a miley...|[im, having, a, m...|(65536,[901,1603,...|(65536,[901,1603,...|  0.0|[2.39532722421143...|[0.91647028626541...|       0.0|\n",
      "|       0|1468684470|Wow! I just did 5...|[wow!, i, just, d...|(65536,[5228,7788...|(65536,[5228,7788...|  0.0|[1.02498391481984...|[0.73594226808590...|       0.0|\n",
      "|       0|1468751242|still feeling alm...|[still, feeling, ...|(65536,[3085,6661...|(65536,[3085,6661...|  0.0|[3.44950002454358...|[0.96921622680793...|       0.0|\n",
      "|       0|1468781005|@ringworm I wanna...|[@ringworm, i, wa...|(65536,[518,579,1...|(65536,[518,579,1...|  0.0|[1.18440537399984...|[0.76573897700054...|       0.0|\n",
      "|       0|1468782977|@sazzle84  Please...|[@sazzle84, , ple...|(65536,[1061,1050...|(65536,[1061,1050...|  0.0|[0.45144842056211...|[0.61098355367741...|       0.0|\n",
      "|       0|1468783655|@Aneeqah Only a p...|[@aneeqah, only, ...|(65536,[6882,6995...|(65536,[6882,6995...|  0.0|[0.64838368058195...|[0.65664613640750...|       0.0|\n",
      "|       0|1468785970|Has to go to work...|[has, to, go, to,...|(65536,[835,1714,...|(65536,[835,1714,...|  0.0|[7.06758186451602...|[0.99914843420651...|       0.0|\n",
      "|       0|1468804512|Is having sleepin...|[is, having, slee...|(65536,[1603,1607...|(65536,[1603,1607...|  0.0|[2.42509326596177...|[0.91872088509082...|       0.0|\n",
      "|       0|1468818406|I was just mean o...|[i, was, just, me...|(65536,[637,1792,...|(65536,[637,1792,...|  0.0|[1.65927012266045...|[0.84014000137550...|       0.0|\n",
      "|       0|1468902452|Yeah... Can't do ...|[yeah..., can't, ...|(65536,[11860,122...|(65536,[11860,122...|  0.0|[6.01394470539899...|[0.99756153405689...|       0.0|\n",
      "+--------+----------+--------------------+--------------------+--------------------+--------------------+-----+--------------------+--------------------+----------+\n",
      "only showing top 50 rows\n",
      "\n"
     ]
    }
   ],
   "source": [
    "#show results\n",
    "predictions.show(50)"
   ]
  },
  {
   "cell_type": "code",
   "execution_count": 14,
   "id": "da59d0e9-79e7-4561-8d80-6d83b52d00aa",
   "metadata": {},
   "outputs": [
    {
     "data": {
      "text/plain": [
       "0.8443275734920472"
      ]
     },
     "execution_count": 14,
     "metadata": {},
     "output_type": "execute_result"
    }
   ],
   "source": [
    "#Uses Area Under the Curve (AUC). \n",
    "#Bigger the value, better the model is at distinguishing between categories\n",
    "evaluator = BinaryClassificationEvaluator(rawPredictionCol=\"rawPrediction\")\n",
    "evaluator.evaluate(predictions)"
   ]
  },
  {
   "cell_type": "code",
   "execution_count": 15,
   "id": "472b067d-fdff-4623-8425-ccd1fc8e70c5",
   "metadata": {},
   "outputs": [
    {
     "data": {
      "text/plain": [
       "0.8262870290480299"
      ]
     },
     "execution_count": 15,
     "metadata": {},
     "output_type": "execute_result"
    }
   ],
   "source": [
    "#Calculate model accuracy\n",
    "accuracy = predictions.filter(predictions.label == predictions.prediction).count() / float(val_set.count())\n",
    "accuracy"
   ]
  },
  {
   "cell_type": "markdown",
   "id": "27755fde-03da-4475-ac8f-1409768d8139",
   "metadata": {},
   "source": [
    "## Ingestion, Transformation and Sentiment Analysis of Structured Streaming Instagram Comments\n",
    "\n",
    "Using an unbounded dataframe method, more fault tolerant and scalable than socket according to Spark docs\n",
    "\n",
    "> **NOTE** An instance of Instaloader was included to show how post data from Lego's Instagram page could be scraped.\n",
    "> Using Facebook Graph API with elevated permissions for business is recommended for production stability and legal reasons."
   ]
  },
  {
   "cell_type": "code",
   "execution_count": 16,
   "id": "cb4dd9fe-af33-4c57-918d-0af14a8b7670",
   "metadata": {},
   "outputs": [
    {
     "name": "stdout",
     "output_type": "stream",
     "text": [
      "lego\\2023-05-09_11-00-08_UTC.jpg exists [😍  #LEGO #Memes #AFOL] unchanged json \n",
      "lego\\2023-05-09_08-01-21_UTC.jpg exists [4 floors. 21 minifigures. Ove…] unchanged lego\\2023-05-09_08-01-21_UTC.mp4 exists json \n",
      "lego\\2023-05-08_14-00-28_UTC.jpg exists [What gift to give the one who…] unchanged lego\\2023-05-08_14-00-28_UTC.mp4 exists json \n"
     ]
    }
   ],
   "source": [
    "#instaloader instance, an example of how to scrape insta post information realtime.\n",
    "#Instagram will sometimes return a 401 if too many requests in a short time period, so not fault tolerant.\n",
    "instapost = instaloader.Instaloader()\n",
    "profile = instaloader.Profile.from_username(instapost.context,'lego')\n",
    "posts = profile.get_posts()\n",
    "count = 0\n",
    "post_list = []\n",
    "\n",
    "for post in posts:\n",
    "    if count < 3:\n",
    "        instapost.download_post(post, 'lego')\n",
    "        post_params = dict()\n",
    "        post_params['Url'] = post.url\n",
    "        post_params['Likes'] = post.likes\n",
    "        post_params['Caption'] = post.caption\n",
    "        post_params['Caption_Hashtags'] = post.caption_hashtags\n",
    "        count=count+1\n",
    "        time.sleep(5)\n",
    "    else:\n",
    "        break"
   ]
  },
  {
   "cell_type": "code",
   "execution_count": 17,
   "id": "1c0a32a2-6fcc-4e3c-9a73-0c82cc3ab4ea",
   "metadata": {},
   "outputs": [],
   "source": [
    "#Preprocessing of instagram comments\n",
    "def preprocess_sentence(text):\n",
    "    # remove html tags\n",
    "    text = BeautifulSoup(text.encode('utf8'), \"html.parser\").get_text()\n",
    "    # convert the text to lower case\n",
    "    text.lower()\n",
    "    # convert all urls to string \"URL\"\n",
    "    text = re.sub('((www\\.[^\\s]+)|(https?://[^\\s]+))', 'URL', text)\n",
    "    # convert all @username to \"AT_USER\"\n",
    "    text = re.sub('@[^\\s]+', 'AT_USER', text)\n",
    "    # correct all multiple white spaces to a single white space\n",
    "    text = re.sub('[\\s]+', ' ', text)\n",
    "    # convert \"#topic\" to just \"topic\"\n",
    "    text = re.sub(r'#([^\\s]+)', r'\\1', text)\n",
    "    \n",
    "\n",
    "    # split emojis\n",
    "    text = emoji.get_emoji_regexp().split(text)\n",
    "    text = [substr.split() for substr in text]\n",
    "    text = \" \".join(functools.reduce(operator.concat, text))\n",
    "    # convert emojis to text\n",
    "    text = emoji.demojize(text)\n",
    "    return text"
   ]
  },
  {
   "cell_type": "code",
   "execution_count": 18,
   "id": "7eaf4397-a38b-47cd-b5f1-06b96fd59e7a",
   "metadata": {},
   "outputs": [
    {
     "data": {
      "text/plain": [
       "DataFrame[id: int, username: string, comment: string, comment_id: int, profile_url: string, comment_url: string]"
      ]
     },
     "execution_count": 18,
     "metadata": {},
     "output_type": "execute_result"
    }
   ],
   "source": [
    "#create structured streaming dataframe\n",
    "insta_comment_folder = r'C:/Users/hayle/Desktop/lego_post_data/lego_insta_comments'\n",
    "insta_comments = spark.readStream.format('csv').schema(insta_schema).option('header', True).option('maxFilesPerTrigger', 1).load(insta_comment_folder)\n",
    "insta_comments.dropDuplicates(['comment'])"
   ]
  },
  {
   "cell_type": "code",
   "execution_count": 19,
   "id": "fc422c3f-ba2f-4de6-9d07-c3560ce6e34f",
   "metadata": {},
   "outputs": [
    {
     "data": {
      "text/plain": [
       "True"
      ]
     },
     "execution_count": 19,
     "metadata": {},
     "output_type": "execute_result"
    }
   ],
   "source": [
    "insta_comments.isStreaming"
   ]
  },
  {
   "cell_type": "code",
   "execution_count": 20,
   "id": "7fcbd799-398e-408a-9be4-f5085c6862ef",
   "metadata": {},
   "outputs": [],
   "source": [
    "# anonymise comments (GDPR) and drop useless columns\n",
    "df = insta_comments.drop('username').drop('profile_url')\n",
    "#Start dataframe streaming and save to memory\n",
    "query = df.writeStream.format('memory').queryName('temp').outputMode('append').start()"
   ]
  },
  {
   "cell_type": "code",
   "execution_count": 21,
   "id": "e9d651d7-c740-488d-bee2-0d18256f2068",
   "metadata": {},
   "outputs": [
    {
     "data": {
      "text/plain": [
       "'C:/Users/hayle/Desktop/lego_post_data/lego_insta_comments\\\\post_1.csv'"
      ]
     },
     "execution_count": 21,
     "metadata": {},
     "output_type": "execute_result"
    }
   ],
   "source": [
    "#Due to data restrictions, will simulate streaming conditions by dropping csv into folder 😭\n",
    "shutil.move('C:/Users/hayle/Desktop/lego_post_data/post_1.csv', 'C:/Users/hayle/Desktop/lego_post_data/lego_insta_comments')"
   ]
  },
  {
   "cell_type": "code",
   "execution_count": 22,
   "id": "d6c017fd-cae9-4685-b63a-edb67e966c5f",
   "metadata": {},
   "outputs": [],
   "source": [
    "#preprocess comment in dataframe\n",
    "cleanUDF = udf(lambda x:preprocess_sentence(x),tp.StringType())"
   ]
  },
  {
   "cell_type": "code",
   "execution_count": 23,
   "id": "dba5adf7-d935-42fb-a598-ca56e92a26d5",
   "metadata": {},
   "outputs": [
    {
     "name": "stdout",
     "output_type": "stream",
     "text": [
      "+---+--------------------+----------+--------------------+\n",
      "| id|             comment|comment_id|         comment_url|\n",
      "+---+--------------------+----------+--------------------+\n",
      "|  1|Good job LEGO's s...|         0|https://www.insta...|\n",
      "|  2|Glad you guys got...|         0|https://www.insta...|\n",
      "|  3|             AT_USER| 176428304|https://www.insta...|\n",
      "|  4|Where did the don...|         0|https://www.insta...|\n",
      "|  5|:smiling_face_wit...|         0|https://www.insta...|\n",
      "|  6|\"This is so good....|         0|https://www.insta...|\n",
      "|  7| AT_USER :nerd_face:|         0|https://www.insta...|\n",
      "|  8|β¦. somewhere pr...|         0|                    |\n",
      "|  0|                 URL|         0|                    |\n",
      "|  9|My favorite cross...| 204241162|https://www.insta...|\n",
      "| 10|Make a boy and ap...|         0|                    |\n",
      "|  0|                 URL|         0|                    |\n",
      "| 11|AT_USER Deal, but...| 196743444|https://www.insta...|\n",
      "| 12|would love to see...|         0|https://www.insta...|\n",
      "| 13|:face_with_tears_...|1414396017|https://www.insta...|\n",
      "| 14|          This sucks|         0|https://www.insta...|\n",
      "| 15|             AT_USER| 610996370|https://www.insta...|\n",
      "| 16|AT_USER :film_pro...| 196743444|https://www.insta...|\n",
      "| 17|      This is genius|         0|https://www.insta...|\n",
      "| 18|AT_USER sounds li...|         0|https://www.insta...|\n",
      "+---+--------------------+----------+--------------------+\n",
      "only showing top 20 rows\n",
      "\n"
     ]
    }
   ],
   "source": [
    "#Check dataframe creation and data correctly processed.\n",
    "query_df = spark.sql(\"SELECT * FROM temp\")\n",
    "query_df = query_df.na.fill('').na.fill(value=0)\n",
    "query_df = query_df.withColumn(\"comment\",cleanUDF(col(\"comment\")))\n",
    "query_df.show()"
   ]
  },
  {
   "cell_type": "code",
   "execution_count": 24,
   "id": "c451d50b-9408-4a00-bc5d-7023f3dc6be8",
   "metadata": {},
   "outputs": [
    {
     "name": "stdout",
     "output_type": "stream",
     "text": [
      "+---+--------------------+----------+--------------------+--------------------+--------------------+--------------------+\n",
      "| id|             comment|comment_id|         comment_url|               words|                  tf|            features|\n",
      "+---+--------------------+----------+--------------------+--------------------+--------------------+--------------------+\n",
      "|  1|Good job LEGO's s...|         0|https://www.insta...|[good, job, lego'...|(65536,[1614,6359...|(65536,[1614,6359...|\n",
      "|  2|Glad you guys got...|         0|https://www.insta...|[glad, you, guys,...|(65536,[8273,1415...|(65536,[8273,1415...|\n",
      "|  3|             AT_USER| 176428304|https://www.insta...|           [at_user]|(65536,[9664],[1.0])|(65536,[9664],[9....|\n",
      "|  4|Where did the don...|         0|https://www.insta...|[where, did, the,...|(65536,[124,10422...|(65536,[124,10422...|\n",
      "|  5|:smiling_face_wit...|         0|https://www.insta...|[:smiling_face_wi...|(65536,[4865,3625...|(65536,[4865,3625...|\n",
      "|  6|\"This is so good....|         0|https://www.insta...|[\"this, is, so, g...|(65536,[1655,4714...|(65536,[1655,4714...|\n",
      "|  7| AT_USER :nerd_face:|         0|https://www.insta...|[at_user, :nerd_f...|(65536,[9664,3264...|(65536,[9664,3264...|\n",
      "|  8|β¦. somewhere pr...|         0|                    |[β¦., somewhere,...|(65536,[5923,1784...|(65536,[5923,1784...|\n",
      "|  0|                 URL|         0|                    |               [url]|(65536,[21622],[1...|(65536,[21622],[8...|\n",
      "|  9|My favorite cross...| 204241162|https://www.insta...|[my, favorite, cr...|(65536,[16853,220...|(65536,[16853,220...|\n",
      "| 10|Make a boy and ap...|         0|                    |[make, a, boy, an...|(65536,[4413,8465...|(65536,[4413,8465...|\n",
      "|  0|                 URL|         0|                    |               [url]|(65536,[21622],[1...|(65536,[21622],[8...|\n",
      "| 11|AT_USER Deal, but...| 196743444|https://www.insta...|[at_user, deal,, ...|(65536,[4736,4948...|(65536,[4736,4948...|\n",
      "| 12|would love to see...|         0|https://www.insta...|[would, love, to,...|(65536,[1542,3232...|(65536,[1542,3232...|\n",
      "| 13|:face_with_tears_...|1414396017|https://www.insta...|[:face_with_tears...|(65536,[36250],[3...|(65536,[36250],[2...|\n",
      "| 14|          This sucks|         0|https://www.insta...|       [this, sucks]|(65536,[22057,430...|(65536,[22057,430...|\n",
      "| 15|             AT_USER| 610996370|https://www.insta...|           [at_user]|(65536,[9664],[1.0])|(65536,[9664],[9....|\n",
      "| 16|AT_USER :film_pro...| 196743444|https://www.insta...|[at_user, :film_p...|(65536,[2473,9664...|(65536,[2473,9664...|\n",
      "| 17|      This is genius|         0|https://www.insta...|  [this, is, genius]|(65536,[22502,413...|(65536,[22502,413...|\n",
      "| 18|AT_USER sounds li...|         0|https://www.insta...|[at_user, sounds,...|(65536,[9664,1165...|(65536,[9664,1165...|\n",
      "+---+--------------------+----------+--------------------+--------------------+--------------------+--------------------+\n",
      "only showing top 20 rows\n",
      "\n"
     ]
    }
   ],
   "source": [
    "#Run transformation on data\n",
    "final_df = pipelineFit.transform(query_df)\n",
    "final_df.show()"
   ]
  },
  {
   "cell_type": "code",
   "execution_count": 25,
   "id": "817dc5f8-e125-441c-b4ae-fd8adb713d8f",
   "metadata": {},
   "outputs": [
    {
     "name": "stdout",
     "output_type": "stream",
     "text": [
      "+---+--------------------+----------+--------------------+--------------------+--------------------+--------------------+--------------------+--------------------+----------+\n",
      "| id|             comment|comment_id|         comment_url|               words|                  tf|            features|       rawPrediction|         probability|prediction|\n",
      "+---+--------------------+----------+--------------------+--------------------+--------------------+--------------------+--------------------+--------------------+----------+\n",
      "|  1|Good job LEGO's s...|         0|https://www.insta...|[good, job, lego'...|(65536,[1614,6359...|(65536,[1614,6359...|[-2.8400612363419...|[0.05519734418413...|       1.0|\n",
      "|  2|Glad you guys got...|         0|https://www.insta...|[glad, you, guys,...|(65536,[8273,1415...|(65536,[8273,1415...|[-0.8655674453035...|[0.29617746073134...|       1.0|\n",
      "|  3|             AT_USER| 176428304|https://www.insta...|           [at_user]|(65536,[9664],[1.0])|(65536,[9664],[9....|[0.11068839017283...|[0.52764387908926...|       0.0|\n",
      "|  4|Where did the don...|         0|https://www.insta...|[where, did, the,...|(65536,[124,10422...|(65536,[124,10422...|[3.16711740016008...|[0.95957792191502...|       0.0|\n",
      "|  5|:smiling_face_wit...|         0|https://www.insta...|[:smiling_face_wi...|(65536,[4865,3625...|(65536,[4865,3625...|[0.44013777823174...|[0.60829186005140...|       0.0|\n",
      "|  6|\"This is so good....|         0|https://www.insta...|[\"this, is, so, g...|(65536,[1655,4714...|(65536,[1655,4714...|[2.38461038536023...|[0.91564621530875...|       0.0|\n",
      "|  7| AT_USER :nerd_face:|         0|https://www.insta...|[at_user, :nerd_f...|(65536,[9664,3264...|(65536,[9664,3264...|[0.93960035392996...|[0.71901892370438...|       0.0|\n",
      "|  8|β¦. somewhere pr...|         0|                    |[β¦., somewhere,...|(65536,[5923,1784...|(65536,[5923,1784...|[0.33903543857517...|[0.58395620042272...|       0.0|\n",
      "|  0|                 URL|         0|                    |               [url]|(65536,[21622],[1...|(65536,[21622],[8...|[0.91462040133572...|[0.71394470852614...|       0.0|\n",
      "|  9|My favorite cross...| 204241162|https://www.insta...|[my, favorite, cr...|(65536,[16853,220...|(65536,[16853,220...|[0.61043587968225...|[0.64804022571601...|       0.0|\n",
      "| 10|Make a boy and ap...|         0|                    |[make, a, boy, an...|(65536,[4413,8465...|(65536,[4413,8465...|[-1.7177320084929...|[0.15216352599160...|       1.0|\n",
      "|  0|                 URL|         0|                    |               [url]|(65536,[21622],[1...|(65536,[21622],[8...|[0.91462040133572...|[0.71394470852614...|       0.0|\n",
      "| 11|AT_USER Deal, but...| 196743444|https://www.insta...|[at_user, deal,, ...|(65536,[4736,4948...|(65536,[4736,4948...|[-3.6650311331830...|[0.02496420624378...|       1.0|\n",
      "| 12|would love to see...|         0|https://www.insta...|[would, love, to,...|(65536,[1542,3232...|(65536,[1542,3232...|[-2.7520364090181...|[0.05997174441738...|       1.0|\n",
      "| 13|:face_with_tears_...|1414396017|https://www.insta...|[:face_with_tears...|(65536,[36250],[3...|(65536,[36250],[2...|[-0.6514770540073...|[0.34265676381656...|       1.0|\n",
      "| 14|          This sucks|         0|https://www.insta...|       [this, sucks]|(65536,[22057,430...|(65536,[22057,430...|[3.53400385945899...|[0.97163995027945...|       0.0|\n",
      "| 15|             AT_USER| 610996370|https://www.insta...|           [at_user]|(65536,[9664],[1.0])|(65536,[9664],[9....|[0.11068839017283...|[0.52764387908926...|       0.0|\n",
      "| 16|AT_USER :film_pro...| 196743444|https://www.insta...|[at_user, :film_p...|(65536,[2473,9664...|(65536,[2473,9664...|[-0.1325415106589...|[0.46691304539861...|       1.0|\n",
      "| 17|      This is genius|         0|https://www.insta...|  [this, is, genius]|(65536,[22502,413...|(65536,[22502,413...|[-0.2605482242085...|[0.43522894732211...|       1.0|\n",
      "| 18|AT_USER sounds li...|         0|https://www.insta...|[at_user, sounds,...|(65536,[9664,1165...|(65536,[9664,1165...|[-0.5061955053737...|[0.37608581048726...|       1.0|\n",
      "+---+--------------------+----------+--------------------+--------------------+--------------------+--------------------+--------------------+--------------------+----------+\n",
      "only showing top 20 rows\n",
      "\n"
     ]
    }
   ],
   "source": [
    "#run logistic regression model on data\n",
    "lego_pred = lrModel.transform(final_df)\n",
    "lego_pred.show()"
   ]
  },
  {
   "cell_type": "code",
   "execution_count": 26,
   "id": "fc65f09d-5219-4101-ad7b-16e66387cc58",
   "metadata": {},
   "outputs": [
    {
     "name": "stdout",
     "output_type": "stream",
     "text": [
      "+---+--------------------+----------+--------------------+--------------------+--------------------+--------------------+--------------------+--------------------+----------+\n",
      "| id|             comment|comment_id|         comment_url|               words|                  tf|            features|       rawPrediction|         probability|prediction|\n",
      "+---+--------------------+----------+--------------------+--------------------+--------------------+--------------------+--------------------+--------------------+----------+\n",
      "|  1|Good job LEGO's s...|         0|https://www.insta...|[good, job, lego'...|(65536,[1614,6359...|(65536,[1614,6359...|[-2.8400612363419...|[0.05519734418413...|       1.0|\n",
      "|  2|Glad you guys got...|         0|https://www.insta...|[glad, you, guys,...|(65536,[8273,1415...|(65536,[8273,1415...|[-0.8655674453035...|[0.29617746073134...|       1.0|\n",
      "|  3|             AT_USER| 176428304|https://www.insta...|           [at_user]|(65536,[9664],[1.0])|(65536,[9664],[9....|[0.11068839017283...|[0.52764387908926...|       0.0|\n",
      "|  4|Where did the don...|         0|https://www.insta...|[where, did, the,...|(65536,[124,10422...|(65536,[124,10422...|[3.16711740016008...|[0.95957792191502...|       0.0|\n",
      "|  5|:smiling_face_wit...|         0|https://www.insta...|[:smiling_face_wi...|(65536,[4865,3625...|(65536,[4865,3625...|[0.44013777823174...|[0.60829186005140...|       0.0|\n",
      "|  6|\"This is so good....|         0|https://www.insta...|[\"this, is, so, g...|(65536,[1655,4714...|(65536,[1655,4714...|[2.38461038536023...|[0.91564621530875...|       0.0|\n",
      "|  7| AT_USER :nerd_face:|         0|https://www.insta...|[at_user, :nerd_f...|(65536,[9664,3264...|(65536,[9664,3264...|[0.93960035392996...|[0.71901892370438...|       0.0|\n",
      "|  8|β¦. somewhere pr...|         0|                    |[β¦., somewhere,...|(65536,[5923,1784...|(65536,[5923,1784...|[0.33903543857517...|[0.58395620042272...|       0.0|\n",
      "|  0|                 URL|         0|                    |               [url]|(65536,[21622],[1...|(65536,[21622],[8...|[0.91462040133572...|[0.71394470852614...|       0.0|\n",
      "|  9|My favorite cross...| 204241162|https://www.insta...|[my, favorite, cr...|(65536,[16853,220...|(65536,[16853,220...|[0.61043587968225...|[0.64804022571601...|       0.0|\n",
      "| 10|Make a boy and ap...|         0|                    |[make, a, boy, an...|(65536,[4413,8465...|(65536,[4413,8465...|[-1.7177320084929...|[0.15216352599160...|       1.0|\n",
      "|  0|                 URL|         0|                    |               [url]|(65536,[21622],[1...|(65536,[21622],[8...|[0.91462040133572...|[0.71394470852614...|       0.0|\n",
      "| 11|AT_USER Deal, but...| 196743444|https://www.insta...|[at_user, deal,, ...|(65536,[4736,4948...|(65536,[4736,4948...|[-3.6650311331830...|[0.02496420624378...|       1.0|\n",
      "| 12|would love to see...|         0|https://www.insta...|[would, love, to,...|(65536,[1542,3232...|(65536,[1542,3232...|[-2.7520364090181...|[0.05997174441738...|       1.0|\n",
      "| 13|:face_with_tears_...|1414396017|https://www.insta...|[:face_with_tears...|(65536,[36250],[3...|(65536,[36250],[2...|[-0.6514770540073...|[0.34265676381656...|       1.0|\n",
      "| 14|          This sucks|         0|https://www.insta...|       [this, sucks]|(65536,[22057,430...|(65536,[22057,430...|[3.53400385945899...|[0.97163995027945...|       0.0|\n",
      "| 15|             AT_USER| 610996370|https://www.insta...|           [at_user]|(65536,[9664],[1.0])|(65536,[9664],[9....|[0.11068839017283...|[0.52764387908926...|       0.0|\n",
      "| 16|AT_USER :film_pro...| 196743444|https://www.insta...|[at_user, :film_p...|(65536,[2473,9664...|(65536,[2473,9664...|[-0.1325415106589...|[0.46691304539861...|       1.0|\n",
      "| 17|      This is genius|         0|https://www.insta...|  [this, is, genius]|(65536,[22502,413...|(65536,[22502,413...|[-0.2605482242085...|[0.43522894732211...|       1.0|\n",
      "| 18|AT_USER sounds li...|         0|https://www.insta...|[at_user, sounds,...|(65536,[9664,1165...|(65536,[9664,1165...|[-0.5061955053737...|[0.37608581048726...|       1.0|\n",
      "+---+--------------------+----------+--------------------+--------------------+--------------------+--------------------+--------------------+--------------------+----------+\n",
      "only showing top 20 rows\n",
      "\n"
     ]
    }
   ],
   "source": [
    "#lego_pred = lego_pred.withColumn('words',lego_pred.words.cast(tp.StringType()))\n",
    "lego_pred = lego_pred.withColumn('tf',lego_pred.tf.cast(tp.StringType()))\n",
    "lego_pred = lego_pred.withColumn('features',lego_pred.features.cast(tp.StringType()))\n",
    "#lego_pred = lego_pred.withColumn('rawPrediction',lego_pred.rawPrediction.cast(tp.StringType()))\n",
    "#lego_pred = lego_pred.withColumn('probability',lego_pred.probability.cast(tp.StringType()))\n",
    "#lego_pred = lego_pred.withColumn('prediction',lego_pred.prediction.cast(tp.StringType()))\n",
    "lego_pred.show()"
   ]
  },
  {
   "cell_type": "code",
   "execution_count": 27,
   "id": "8b65d01d-dd7f-4fbe-9e85-99ec2572055f",
   "metadata": {},
   "outputs": [
    {
     "data": {
      "text/html": [
       "<div>\n",
       "<style scoped>\n",
       "    .dataframe tbody tr th:only-of-type {\n",
       "        vertical-align: middle;\n",
       "    }\n",
       "\n",
       "    .dataframe tbody tr th {\n",
       "        vertical-align: top;\n",
       "    }\n",
       "\n",
       "    .dataframe thead th {\n",
       "        text-align: right;\n",
       "    }\n",
       "</style>\n",
       "<table border=\"1\" class=\"dataframe\">\n",
       "  <thead>\n",
       "    <tr style=\"text-align: right;\">\n",
       "      <th></th>\n",
       "      <th>id</th>\n",
       "      <th>comment</th>\n",
       "      <th>comment_id</th>\n",
       "      <th>comment_url</th>\n",
       "      <th>words</th>\n",
       "      <th>tf</th>\n",
       "      <th>features</th>\n",
       "      <th>rawPrediction</th>\n",
       "      <th>probability</th>\n",
       "      <th>prediction</th>\n",
       "    </tr>\n",
       "  </thead>\n",
       "  <tbody>\n",
       "    <tr>\n",
       "      <th>0</th>\n",
       "      <td>1</td>\n",
       "      <td>Good job LEGO's social creative team! ðŸ˜†</td>\n",
       "      <td>0</td>\n",
       "      <td>https://www.instagram.com/p/Cr3hJ1ntvcy/c/1802...</td>\n",
       "      <td>[good, job, lego's, social, creative, team!, ð...</td>\n",
       "      <td>(65536,[1614,6359,31342,33661,43406,47896,5730...</td>\n",
       "      <td>(65536,[1614,6359,31342,33661,43406,47896,5730...</td>\n",
       "      <td>[-2.840061236341988, 2.840061236341988]</td>\n",
       "      <td>[0.055197344184131775, 0.9448026558158682]</td>\n",
       "      <td>1.0</td>\n",
       "    </tr>\n",
       "    <tr>\n",
       "      <th>1</th>\n",
       "      <td>2</td>\n",
       "      <td>Glad you guys got him locked upš¤</td>\n",
       "      <td>0</td>\n",
       "      <td>https://www.instagram.com/p/Cr3hJ1ntvcy/c/1800...</td>\n",
       "      <td>[glad, you, guys, got, him, locked, upš¤]</td>\n",
       "      <td>(65536,[8273,14156,18354,24185,29290,35840,537...</td>\n",
       "      <td>(65536,[8273,14156,18354,24185,29290,35840,537...</td>\n",
       "      <td>[-0.8655674453035154, 0.8655674453035154]</td>\n",
       "      <td>[0.2961774607313436, 0.7038225392686563]</td>\n",
       "      <td>1.0</td>\n",
       "    </tr>\n",
       "    <tr>\n",
       "      <th>2</th>\n",
       "      <td>3</td>\n",
       "      <td>AT_USER</td>\n",
       "      <td>176428304</td>\n",
       "      <td>https://www.instagram.com/p/Cr3hJ1ntvcy/c/1800...</td>\n",
       "      <td>[at_user]</td>\n",
       "      <td>(65536,[9664],[1.0])</td>\n",
       "      <td>(65536,[9664],[9.732092315023252])</td>\n",
       "      <td>[0.11068839017283194, -0.11068839017283194]</td>\n",
       "      <td>[0.5276438790892639, 0.4723561209107361]</td>\n",
       "      <td>0.0</td>\n",
       "    </tr>\n",
       "    <tr>\n",
       "      <th>3</th>\n",
       "      <td>4</td>\n",
       "      <td>Where did the donut thief lost his hat? :face_...</td>\n",
       "      <td>0</td>\n",
       "      <td>https://www.instagram.com/p/Cr3hJ1ntvcy/c/1803...</td>\n",
       "      <td>[where, did, the, donut, thief, lost, his, hat...</td>\n",
       "      <td>(65536,[124,10422,19153,30353,33052,36250,4912...</td>\n",
       "      <td>(65536,[124,10422,19153,30353,33052,36250,4912...</td>\n",
       "      <td>[3.1671174001600897, -3.1671174001600897]</td>\n",
       "      <td>[0.9595779219150284, 0.04042207808497156]</td>\n",
       "      <td>0.0</td>\n",
       "    </tr>\n",
       "    <tr>\n",
       "      <th>4</th>\n",
       "      <td>5</td>\n",
       "      <td>:smiling_face_with_heart-eyes: :face_with_tear...</td>\n",
       "      <td>0</td>\n",
       "      <td>https://www.instagram.com/p/Cr3hJ1ntvcy/c/1793...</td>\n",
       "      <td>[:smiling_face_with_heart-eyes:, :face_with_te...</td>\n",
       "      <td>(65536,[4865,36250],[1.0,1.0])</td>\n",
       "      <td>(65536,[4865,36250],[10.259447240740453,9.9111...</td>\n",
       "      <td>[0.44013777823174194, -0.44013777823174194]</td>\n",
       "      <td>[0.6082918600514047, 0.3917081399485953]</td>\n",
       "      <td>0.0</td>\n",
       "    </tr>\n",
       "    <tr>\n",
       "      <th>...</th>\n",
       "      <td>...</td>\n",
       "      <td>...</td>\n",
       "      <td>...</td>\n",
       "      <td>...</td>\n",
       "      <td>...</td>\n",
       "      <td>...</td>\n",
       "      <td>...</td>\n",
       "      <td>...</td>\n",
       "      <td>...</td>\n",
       "      <td>...</td>\n",
       "    </tr>\n",
       "    <tr>\n",
       "      <th>83</th>\n",
       "      <td>75</td>\n",
       "      <td>\"that's a lovely short film and very well done...</td>\n",
       "      <td>0</td>\n",
       "      <td>https://www.instagram.com/p/Cr3hJ1ntvcy/c/1803...</td>\n",
       "      <td>[\"that's, a, lovely, short, film, and, very, w...</td>\n",
       "      <td>(65536,[5340,8538,9214,11167,11309,13432,16126...</td>\n",
       "      <td>(65536,[5340,8538,9214,11167,11309,13432,16126...</td>\n",
       "      <td>[-2.232782730181542, 2.232782730181542]</td>\n",
       "      <td>[0.09684497343362855, 0.9031550265663715]</td>\n",
       "      <td>1.0</td>\n",
       "    </tr>\n",
       "    <tr>\n",
       "      <th>84</th>\n",
       "      <td>76</td>\n",
       "      <td>Where's the Clutch Powers sets</td>\n",
       "      <td>1933163475</td>\n",
       "      <td>https://www.instagram.com/p/Cr3hJ1ntvcy/c/1793...</td>\n",
       "      <td>[where's, the, clutch, powers, sets]</td>\n",
       "      <td>(65536,[1101,3694,9779,30353,55020],[1.0,1.0,1...</td>\n",
       "      <td>(65536,[1101,3694,9779,30353,55020],[7.1760093...</td>\n",
       "      <td>[4.073517173097064, -4.073517173097064]</td>\n",
       "      <td>[0.983267317373011, 0.016732682626989015]</td>\n",
       "      <td>0.0</td>\n",
       "    </tr>\n",
       "    <tr>\n",
       "      <th>85</th>\n",
       "      <td>77</td>\n",
       "      <td>:red_heart:</td>\n",
       "      <td>1640995102</td>\n",
       "      <td>https://www.instagram.com/p/Cr3hJ1ntvcy/c/1798...</td>\n",
       "      <td>[:red_heart:]</td>\n",
       "      <td>(65536,[26736],[1.0])</td>\n",
       "      <td>(65536,[26736],[10.707471963267412])</td>\n",
       "      <td>[0.4442552240075403, -0.4442552240075403]</td>\n",
       "      <td>[0.6092724970484215, 0.39072750295157854]</td>\n",
       "      <td>0.0</td>\n",
       "    </tr>\n",
       "    <tr>\n",
       "      <th>86</th>\n",
       "      <td>78</td>\n",
       "      <td>Of all the companies I wished you wouldnâ€ :tr...</td>\n",
       "      <td>0</td>\n",
       "      <td>https://www.instagram.com/p/Cr3hJ1ntvcy/c/1796...</td>\n",
       "      <td>[of, all, the, companies, i, wished, you, woul...</td>\n",
       "      <td>(65536,[7987,15067,18354,19036,22479,29977,303...</td>\n",
       "      <td>(65536,[7987,15067,18354,19036,22479,29977,303...</td>\n",
       "      <td>[2.58294487046717, -2.58294487046717]</td>\n",
       "      <td>[0.9297558419272266, 0.0702441580727734]</td>\n",
       "      <td>0.0</td>\n",
       "    </tr>\n",
       "    <tr>\n",
       "      <th>87</th>\n",
       "      <td>79</td>\n",
       "      <td>Well it ain’t priceless is it? It’s expensive</td>\n",
       "      <td>1519478183</td>\n",
       "      <td>https://www.instagram.com/p/Cr3hJ1ntvcy/c/1794...</td>\n",
       "      <td>[well, it, ain’t, priceless, is, it?, it’s, ex...</td>\n",
       "      <td>(65536,[8348,18701,19352,20364,30950,33271,413...</td>\n",
       "      <td>(65536,[8348,18701,19352,20364,30950,33271,413...</td>\n",
       "      <td>[0.8990350129637948, -0.8990350129637948]</td>\n",
       "      <td>[0.7107511571319642, 0.28924884286803576]</td>\n",
       "      <td>0.0</td>\n",
       "    </tr>\n",
       "  </tbody>\n",
       "</table>\n",
       "<p>88 rows × 10 columns</p>\n",
       "</div>"
      ],
      "text/plain": [
       "    id                                            comment  comment_id   \n",
       "0    1         Good job LEGO's social creative team! ðŸ˜†           0  \\\n",
       "1    2                Glad you guys got him locked upš¤           0   \n",
       "2    3                                            AT_USER   176428304   \n",
       "3    4  Where did the donut thief lost his hat? :face_...           0   \n",
       "4    5  :smiling_face_with_heart-eyes: :face_with_tear...           0   \n",
       "..  ..                                                ...         ...   \n",
       "83  75  \"that's a lovely short film and very well done...           0   \n",
       "84  76                     Where's the Clutch Powers sets  1933163475   \n",
       "85  77                                       :red_heart:   1640995102   \n",
       "86  78  Of all the companies I wished you wouldnâ€ :tr...           0   \n",
       "87  79      Well it ain’t priceless is it? It’s expensive  1519478183   \n",
       "\n",
       "                                          comment_url   \n",
       "0   https://www.instagram.com/p/Cr3hJ1ntvcy/c/1802...  \\\n",
       "1   https://www.instagram.com/p/Cr3hJ1ntvcy/c/1800...   \n",
       "2   https://www.instagram.com/p/Cr3hJ1ntvcy/c/1800...   \n",
       "3   https://www.instagram.com/p/Cr3hJ1ntvcy/c/1803...   \n",
       "4   https://www.instagram.com/p/Cr3hJ1ntvcy/c/1793...   \n",
       "..                                                ...   \n",
       "83  https://www.instagram.com/p/Cr3hJ1ntvcy/c/1803...   \n",
       "84  https://www.instagram.com/p/Cr3hJ1ntvcy/c/1793...   \n",
       "85  https://www.instagram.com/p/Cr3hJ1ntvcy/c/1798...   \n",
       "86  https://www.instagram.com/p/Cr3hJ1ntvcy/c/1796...   \n",
       "87  https://www.instagram.com/p/Cr3hJ1ntvcy/c/1794...   \n",
       "\n",
       "                                                words   \n",
       "0   [good, job, lego's, social, creative, team!, ð...  \\\n",
       "1         [glad, you, guys, got, him, locked, upš¤]   \n",
       "2                                           [at_user]   \n",
       "3   [where, did, the, donut, thief, lost, his, hat...   \n",
       "4   [:smiling_face_with_heart-eyes:, :face_with_te...   \n",
       "..                                                ...   \n",
       "83  [\"that's, a, lovely, short, film, and, very, w...   \n",
       "84               [where's, the, clutch, powers, sets]   \n",
       "85                                      [:red_heart:]   \n",
       "86  [of, all, the, companies, i, wished, you, woul...   \n",
       "87  [well, it, ain’t, priceless, is, it?, it’s, ex...   \n",
       "\n",
       "                                                   tf   \n",
       "0   (65536,[1614,6359,31342,33661,43406,47896,5730...  \\\n",
       "1   (65536,[8273,14156,18354,24185,29290,35840,537...   \n",
       "2                                (65536,[9664],[1.0])   \n",
       "3   (65536,[124,10422,19153,30353,33052,36250,4912...   \n",
       "4                      (65536,[4865,36250],[1.0,1.0])   \n",
       "..                                                ...   \n",
       "83  (65536,[5340,8538,9214,11167,11309,13432,16126...   \n",
       "84  (65536,[1101,3694,9779,30353,55020],[1.0,1.0,1...   \n",
       "85                              (65536,[26736],[1.0])   \n",
       "86  (65536,[7987,15067,18354,19036,22479,29977,303...   \n",
       "87  (65536,[8348,18701,19352,20364,30950,33271,413...   \n",
       "\n",
       "                                             features   \n",
       "0   (65536,[1614,6359,31342,33661,43406,47896,5730...  \\\n",
       "1   (65536,[8273,14156,18354,24185,29290,35840,537...   \n",
       "2                  (65536,[9664],[9.732092315023252])   \n",
       "3   (65536,[124,10422,19153,30353,33052,36250,4912...   \n",
       "4   (65536,[4865,36250],[10.259447240740453,9.9111...   \n",
       "..                                                ...   \n",
       "83  (65536,[5340,8538,9214,11167,11309,13432,16126...   \n",
       "84  (65536,[1101,3694,9779,30353,55020],[7.1760093...   \n",
       "85               (65536,[26736],[10.707471963267412])   \n",
       "86  (65536,[7987,15067,18354,19036,22479,29977,303...   \n",
       "87  (65536,[8348,18701,19352,20364,30950,33271,413...   \n",
       "\n",
       "                                  rawPrediction   \n",
       "0       [-2.840061236341988, 2.840061236341988]  \\\n",
       "1     [-0.8655674453035154, 0.8655674453035154]   \n",
       "2   [0.11068839017283194, -0.11068839017283194]   \n",
       "3     [3.1671174001600897, -3.1671174001600897]   \n",
       "4   [0.44013777823174194, -0.44013777823174194]   \n",
       "..                                          ...   \n",
       "83      [-2.232782730181542, 2.232782730181542]   \n",
       "84      [4.073517173097064, -4.073517173097064]   \n",
       "85    [0.4442552240075403, -0.4442552240075403]   \n",
       "86        [2.58294487046717, -2.58294487046717]   \n",
       "87    [0.8990350129637948, -0.8990350129637948]   \n",
       "\n",
       "                                   probability  prediction  \n",
       "0   [0.055197344184131775, 0.9448026558158682]         1.0  \n",
       "1     [0.2961774607313436, 0.7038225392686563]         1.0  \n",
       "2     [0.5276438790892639, 0.4723561209107361]         0.0  \n",
       "3    [0.9595779219150284, 0.04042207808497156]         0.0  \n",
       "4     [0.6082918600514047, 0.3917081399485953]         0.0  \n",
       "..                                         ...         ...  \n",
       "83   [0.09684497343362855, 0.9031550265663715]         1.0  \n",
       "84   [0.983267317373011, 0.016732682626989015]         0.0  \n",
       "85   [0.6092724970484215, 0.39072750295157854]         0.0  \n",
       "86    [0.9297558419272266, 0.0702441580727734]         0.0  \n",
       "87   [0.7107511571319642, 0.28924884286803576]         0.0  \n",
       "\n",
       "[88 rows x 10 columns]"
      ]
     },
     "execution_count": 27,
     "metadata": {},
     "output_type": "execute_result"
    }
   ],
   "source": [
    "df = lego_pred.toPandas()\n",
    "df"
   ]
  },
  {
   "cell_type": "code",
   "execution_count": 29,
   "id": "1f216a04-3792-4b42-9748-51ee1917d629",
   "metadata": {},
   "outputs": [
    {
     "data": {
      "text/html": [
       "<div>\n",
       "<style scoped>\n",
       "    .dataframe tbody tr th:only-of-type {\n",
       "        vertical-align: middle;\n",
       "    }\n",
       "\n",
       "    .dataframe tbody tr th {\n",
       "        vertical-align: top;\n",
       "    }\n",
       "\n",
       "    .dataframe thead th {\n",
       "        text-align: right;\n",
       "    }\n",
       "</style>\n",
       "<table border=\"1\" class=\"dataframe\">\n",
       "  <thead>\n",
       "    <tr style=\"text-align: right;\">\n",
       "      <th></th>\n",
       "      <th>comment</th>\n",
       "      <th>prediction</th>\n",
       "    </tr>\n",
       "  </thead>\n",
       "  <tbody>\n",
       "    <tr>\n",
       "      <th>0</th>\n",
       "      <td>Good job LEGO's social creative team! ðŸ˜†</td>\n",
       "      <td>1.0</td>\n",
       "    </tr>\n",
       "    <tr>\n",
       "      <th>1</th>\n",
       "      <td>Glad you guys got him locked upš¤</td>\n",
       "      <td>1.0</td>\n",
       "    </tr>\n",
       "    <tr>\n",
       "      <th>2</th>\n",
       "      <td>AT_USER</td>\n",
       "      <td>0.0</td>\n",
       "    </tr>\n",
       "    <tr>\n",
       "      <th>3</th>\n",
       "      <td>Where did the donut thief lost his hat? :face_...</td>\n",
       "      <td>0.0</td>\n",
       "    </tr>\n",
       "    <tr>\n",
       "      <th>4</th>\n",
       "      <td>:smiling_face_with_heart-eyes: :face_with_tear...</td>\n",
       "      <td>0.0</td>\n",
       "    </tr>\n",
       "    <tr>\n",
       "      <th>...</th>\n",
       "      <td>...</td>\n",
       "      <td>...</td>\n",
       "    </tr>\n",
       "    <tr>\n",
       "      <th>83</th>\n",
       "      <td>\"that's a lovely short film and very well done...</td>\n",
       "      <td>1.0</td>\n",
       "    </tr>\n",
       "    <tr>\n",
       "      <th>84</th>\n",
       "      <td>Where's the Clutch Powers sets</td>\n",
       "      <td>0.0</td>\n",
       "    </tr>\n",
       "    <tr>\n",
       "      <th>85</th>\n",
       "      <td>:red_heart:</td>\n",
       "      <td>0.0</td>\n",
       "    </tr>\n",
       "    <tr>\n",
       "      <th>86</th>\n",
       "      <td>Of all the companies I wished you wouldnâ€ :tr...</td>\n",
       "      <td>0.0</td>\n",
       "    </tr>\n",
       "    <tr>\n",
       "      <th>87</th>\n",
       "      <td>Well it ain’t priceless is it? It’s expensive</td>\n",
       "      <td>0.0</td>\n",
       "    </tr>\n",
       "  </tbody>\n",
       "</table>\n",
       "<p>88 rows × 2 columns</p>\n",
       "</div>"
      ],
      "text/plain": [
       "                                              comment  prediction\n",
       "0          Good job LEGO's social creative team! ðŸ˜†         1.0\n",
       "1                 Glad you guys got him locked upš¤         1.0\n",
       "2                                             AT_USER         0.0\n",
       "3   Where did the donut thief lost his hat? :face_...         0.0\n",
       "4   :smiling_face_with_heart-eyes: :face_with_tear...         0.0\n",
       "..                                                ...         ...\n",
       "83  \"that's a lovely short film and very well done...         1.0\n",
       "84                     Where's the Clutch Powers sets         0.0\n",
       "85                                       :red_heart:          0.0\n",
       "86  Of all the companies I wished you wouldnâ€ :tr...         0.0\n",
       "87      Well it ain’t priceless is it? It’s expensive         0.0\n",
       "\n",
       "[88 rows x 2 columns]"
      ]
     },
     "execution_count": 29,
     "metadata": {},
     "output_type": "execute_result"
    }
   ],
   "source": [
    "df = df[['comment','prediction']]\n",
    "df"
   ]
  },
  {
   "cell_type": "code",
   "execution_count": 30,
   "id": "5633c72c-713a-4456-a0c0-cd2775b15ef6",
   "metadata": {},
   "outputs": [],
   "source": [
    "df_metric = df.groupby('prediction').count()\n",
    "df_metric['sentiment'] = ['negative', 'positive']"
   ]
  },
  {
   "cell_type": "code",
   "execution_count": 31,
   "id": "c0ebc19d-c8ba-4044-b96a-2a9e4bdc300a",
   "metadata": {},
   "outputs": [
    {
     "data": {
      "text/html": [
       "<div>\n",
       "<style scoped>\n",
       "    .dataframe tbody tr th:only-of-type {\n",
       "        vertical-align: middle;\n",
       "    }\n",
       "\n",
       "    .dataframe tbody tr th {\n",
       "        vertical-align: top;\n",
       "    }\n",
       "\n",
       "    .dataframe thead th {\n",
       "        text-align: right;\n",
       "    }\n",
       "</style>\n",
       "<table border=\"1\" class=\"dataframe\">\n",
       "  <thead>\n",
       "    <tr style=\"text-align: right;\">\n",
       "      <th></th>\n",
       "      <th>comment</th>\n",
       "      <th>sentiment</th>\n",
       "    </tr>\n",
       "    <tr>\n",
       "      <th>prediction</th>\n",
       "      <th></th>\n",
       "      <th></th>\n",
       "    </tr>\n",
       "  </thead>\n",
       "  <tbody>\n",
       "    <tr>\n",
       "      <th>0.0</th>\n",
       "      <td>56</td>\n",
       "      <td>negative</td>\n",
       "    </tr>\n",
       "    <tr>\n",
       "      <th>1.0</th>\n",
       "      <td>32</td>\n",
       "      <td>positive</td>\n",
       "    </tr>\n",
       "  </tbody>\n",
       "</table>\n",
       "</div>"
      ],
      "text/plain": [
       "            comment sentiment\n",
       "prediction                   \n",
       "0.0              56  negative\n",
       "1.0              32  positive"
      ]
     },
     "execution_count": 31,
     "metadata": {},
     "output_type": "execute_result"
    }
   ],
   "source": [
    "df_metric"
   ]
  },
  {
   "cell_type": "code",
   "execution_count": 32,
   "id": "85073d9b-0ce0-4ca0-af0e-2d6bc8cf887f",
   "metadata": {},
   "outputs": [
    {
     "data": {
      "image/png": "[encoded data removed]",
      "text/plain": [
       "<Figure size 432x288 with 1 Axes>"
      ]
     },
     "metadata": {},
     "output_type": "display_data"
    },
    {
     "data": {
      "text/plain": [
       "<Axes: xlabel='comment count', ylabel='sentiment'>"
      ]
     },
     "execution_count": 32,
     "metadata": {},
     "output_type": "execute_result"
    },
    {
     "data": {
      "image/png": "[encoded data removed]",
      "text/plain": [
       "<Figure size 432x288 with 1 Axes>"
      ]
     },
     "metadata": {
      "needs_background": "light"
     },
     "output_type": "display_data"
    }
   ],
   "source": [
    "#Pie chart for dashboard\n",
    "palette_color = sns.color_palette('bright')\n",
    "labels = ['negative', 'postive']\n",
    "plt.pie(data=df_metric,x= 'comment', labels=labels, colors=palette_color, autopct='%.0f%%')\n",
    "plt.show()\n",
    "\n",
    "#Barchart for dashboard\n",
    "bars = sns.barplot(x='comment',y='sentiment', data=df_metric)\n",
    "bars.set(xlabel='comment count')\n",
    "bars"
   ]
  },
  {
   "cell_type": "code",
   "execution_count": null,
   "id": "e7f888d0-2817-4950-b30c-840b84b427ae",
   "metadata": {},
   "outputs": [],
   "source": []
  }
 ],
 "metadata": {
  "kernelspec": {
   "display_name": "Python 3",
   "language": "python",
   "name": "python3"
  },
  "language_info": {
   "codemirror_mode": {
    "name": "ipython",
    "version": 3
   },
   "file_extension": ".py",
   "mimetype": "text/x-python",
   "name": "python",
   "nbconvert_exporter": "python",
   "pygments_lexer": "ipython3",
   "version": "3.9.1"
  }
 },
 "nbformat": 4,
 "nbformat_minor": 5
}
