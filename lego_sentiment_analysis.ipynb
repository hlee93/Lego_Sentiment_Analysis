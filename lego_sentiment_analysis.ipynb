{
 "cells": [
  {
   "cell_type": "markdown",
   "id": "27fc47e6-4ed9-416a-9ddc-f7c805c57408",
   "metadata": {},
   "source": [
    "Sentiment analysis of lego themed social media\n",
    "\n",
    "steps:\n",
    "1. pull in posts and comments real time\n",
    "2. clean data\n",
    "3. sentiment analysis of comments\n",
    "4. show results as dashboard or API\n"
   ]
  },
  {
   "cell_type": "code",
   "execution_count": null,
   "id": "9c464058-0ce2-443b-a168-c8f769848bd7",
   "metadata": {},
   "outputs": [],
   "source": [
    "#To get long life access token from facebook\n",
    "# Define URL\n",
    "url = params['endpoint_base'] + 'oauth/access_token'\n",
    "\n",
    "# Define Endpoint Parameters\n",
    "endpointParams = dict() \n",
    "endpointParams['grant_type'] = 'fb_exchange_token'\n",
    "endpointParams['client_id'] = params['client_id']\n",
    "endpointParams['client_secret'] = params['client_secret']\n",
    "endpointParams['fb_exchange_token'] = params['access_token']\n",
    "\n",
    "# Requests Data\n",
    "data = requests.get(url, endpointParams )\n",
    "long_lived_token = json.loads(data.content)\n",
    "long_lived_token\n"
   ]
  },
  {
   "cell_type": "code",
   "execution_count": null,
   "id": "27ed0464-65ca-4b46-9174-fce3a3eccbf2",
   "metadata": {},
   "outputs": [],
   "source": [
    "from pyspark.sql import SparkSession\n",
    "from pyspark.streaming import StreamingContext\n",
    "import pyspark.sql.types as tp\n",
    "import requests\n",
    "import json\n",
    "import datetime\n",
    "\n",
    "insta_access_token = 'EAADn7X6UUMIBAAMmrZBbSm5mKBNX0NtLC5sDme4HhKqA8kLxP9JQ9qx0iZBRWvA0c42phOYWCZBXhb3IqX3nT9QZBdsCtNh2zRaZAaOkkFSWZBAyfGpcZCeZCO96V89qXlrnOzF09XAFfrkm9SxdoQ9V4ZB1d31G0FWon3PI7wZCpq7G4JWpCGW4sn'\n",
    "page_id = '121689584245195'\n",
    "instagram_account_id = '4848230760'\n",
    "app_id = '255007216914626'\n",
    "app_secret = '9879766d852cf6d5080d3c82e69fede3'\n"
   ]
  },
  {
   "cell_type": "code",
   "execution_count": null,
   "id": "cfde8842-ec5b-4ae0-ab5a-9624a094b8ef",
   "metadata": {},
   "outputs": [],
   "source": [
    "# Define Parameters Dictionary\n",
    "params = dict()\n",
    "params['access_token'] = insta_access_token        \n",
    "params['client_id'] = app_id                 \n",
    "params['client_secret'] = app_secret     \n",
    "params['graph_domain'] = 'https://graph.facebook.com'\n",
    "params['graph_version'] = 'v16.0'\n",
    "params['endpoint_base'] = params['graph_domain'] + '/' + params['graph_version'] + '/'\n",
    "params['page_id'] = page_id                  \n",
    "params['instagram_account_id'] = instagram_account_id       \n",
    "params['ig_username'] = 'susohikitabi'\n",
    "params['lego_id'] ='196743444'\n",
    "params['lego_username'] = '@lego'\n",
    "\n",
    "# Define Endpoint Parameters\n",
    "endpointParams = dict()\n",
    "endpointParams['input_token'] = params['access_token']\n",
    "endpointParams['access_token'] = params['access_token']\n",
    "\n",
    "# Define URL\n",
    "url = params['graph_domain'] + '/debug_token'\n",
    "\n",
    "# Requests Data\n",
    "data = requests.get(url, endpointParams)\n",
    "access_token_data = json.loads(data.content)\n",
    "access_token_data\n",
    "\n",
    "#Check token expiry date\n",
    "print(\"Token Expires: \", datetime.datetime.fromtimestamp(access_token_data['data']['expires_at']))"
   ]
  },
  {
   "cell_type": "code",
   "execution_count": null,
   "id": "811047bc-24db-4e22-8f7e-88ecfe0d3755",
   "metadata": {},
   "outputs": [],
   "source": [
    "# Define URL\n",
    "url = params['endpoint_base'] + params['instagram_account_id'] + '/media?'\n",
    "\n",
    "# Define Endpoint Parameters\n",
    "endpointParams = dict()\n",
    "endpointParams['fields'] = 'id,caption,media_type,media_url,permalink,thumbnail_url,timestamp,username,like_count,comments_count'\n",
    "endpointParams['access_token'] = params['access_token']\n",
    "\n",
    "# Requests Data\n",
    "data = requests.get(url, endpointParams )\n",
    "basic_insight = json.loads(data.content)\n",
    "basic_insight\n"
   ]
  },
  {
   "cell_type": "code",
   "execution_count": null,
   "id": "f278d330-3737-4b16-8ef2-cfdec083167e",
   "metadata": {},
   "outputs": [],
   "source": []
  },
  {
   "cell_type": "code",
   "execution_count": null,
   "id": "5b207849-eeda-41c7-aa35-3552f8312d3d",
   "metadata": {},
   "outputs": [],
   "source": [
    "#create spark session\n",
    "spark = SparkSession.builder.master(\"local[1]\") \\\n",
    "                    .appName('LegoSentiment') \\\n",
    "                    .getOrCreate()"
   ]
  },
  {
   "cell_type": "code",
   "execution_count": null,
   "id": "8694d9ba-9a4b-4b10-9a9c-2aa6cbac856c",
   "metadata": {},
   "outputs": [],
   "source": [
    "#define schema here\n",
    "post_comments = tp.StructType([\n",
    "  tp.StructField(name= 'id',          dataType= tp.IntegerType(),  nullable= True),\n",
    "  tp.StructField(name= 'label',       dataType= tp.IntegerType(),  nullable= True),\n",
    "  tp.StructField(name= 'tweet',       dataType= tp.StringType(),   nullable= True)\n",
    "])"
   ]
  },
  {
   "cell_type": "code",
   "execution_count": null,
   "id": "bbff4e36-0295-46a7-a8e1-0ff956d46ba6",
   "metadata": {},
   "outputs": [],
   "source": [
    "import tweepy\n",
    "\n",
    "client = tweepy.Client(\n",
    "    consumer_key=\"API / Consumer Key here\",\n",
    "    consumer_secret=\"API / Consumer Secret here\",\n",
    "    access_token=\"Access Token here\",\n",
    "    access_token_secret=\"Access Token Secret here\"\n",
    ")"
   ]
  },
  {
   "cell_type": "code",
   "execution_count": null,
   "id": "c62ab941",
   "metadata": {},
   "outputs": [],
   "source": [
    "from requests_oauthlib import OAuth1Session\n",
    "import os\n",
    "import json\n",
    "\n",
    "# To set your enviornment variables in your terminal run the following line:\n",
    "# export 'CONSUMER_KEY'='<your_consumer_key>'\n",
    "# export 'CONSUMER_SECRET'='<your_consumer_secret>'\n",
    "\n",
    "consumer_key = 'iF7AN1SReddkMvBLkN2eFTrT9'\n",
    "consumer_secret = 'uWenXIZU77fBCczUlK8Oy2QkvrTBIF94gn3XFplwDf2Ijd7w9F'\n",
    "\n",
    "# User fields are adjustable, options include:\n",
    "# created_at, description, entities, id, location, name,\n",
    "# pinned_tweet_id, profile_image_url, protected,\n",
    "# public_metrics, url, username, verified, and withheld\n",
    "fields = \"created_at,description\"\n",
    "params = {\"user.fields\": fields}\n",
    "\n",
    "# Get request token\n",
    "request_token_url = \"https://api.twitter.com/oauth/request_token\"\n",
    "oauth = OAuth1Session(consumer_key, client_secret=consumer_secret)\n",
    "\n",
    "try:\n",
    "    fetch_response = oauth.fetch_request_token(request_token_url)\n",
    "except ValueError:\n",
    "    print(\n",
    "        \"There may have been an issue with the consumer_key or consumer_secret you entered.\"\n",
    "    )\n",
    "\n",
    "resource_owner_key = fetch_response.get(\"oauth_token\")\n",
    "resource_owner_secret = fetch_response.get(\"oauth_token_secret\")\n",
    "print(\"Got OAuth token: %s\" % resource_owner_key)\n",
    "\n",
    "# # Get authorization\n",
    "base_authorization_url = \"https://api.twitter.com/oauth/authorize\"\n",
    "authorization_url = oauth.authorization_url(base_authorization_url)\n",
    "print(\"Please go here and authorize: %s\" % authorization_url)\n",
    "verifier = input(\"Paste the PIN here: \")\n",
    "\n",
    "# Get the access token\n",
    "access_token_url = \"https://api.twitter.com/oauth/access_token\"\n",
    "oauth = OAuth1Session(\n",
    "    consumer_key,\n",
    "    client_secret=consumer_secret,\n",
    "    resource_owner_key=resource_owner_key,\n",
    "    resource_owner_secret=resource_owner_secret,\n",
    "    verifier=verifier,\n",
    ")\n",
    "oauth_tokens = oauth.fetch_access_token(access_token_url)\n",
    "\n",
    "access_token = oauth_tokens[\"oauth_token\"]\n",
    "access_token_secret = oauth_tokens[\"oauth_token_secret\"]\n",
    "\n",
    "# Make the request\n",
    "oauth = OAuth1Session(\n",
    "    consumer_key,\n",
    "    client_secret=consumer_secret,\n",
    "    resource_owner_key=access_token,\n",
    "    resource_owner_secret=access_token_secret,\n",
    ")\n",
    "\n",
    "response = oauth.get(\"https://api.twitter.com/2/users/me\", params=params)\n",
    "\n",
    "if response.status_code != 200:\n",
    "    raise Exception(\n",
    "        \"Request returned an error: {} {}\".format(response.status_code, response.text)\n",
    "    )\n",
    "\n",
    "print(\"Response code: {}\".format(response.status_code))\n",
    "\n",
    "json_response = response.json()\n",
    "\n",
    "print(json.dumps(json_response, indent=4, sort_keys=True))"
   ]
  },
  {
   "cell_type": "code",
   "execution_count": null,
   "id": "672efd8c-2b55-47d6-9eaf-b1e7a1086465",
   "metadata": {},
   "outputs": [],
   "source": [
    "pip install twint"
   ]
  },
  {
   "cell_type": "code",
   "execution_count": 1,
   "id": "dc43433b-054a-4487-a742-825b2b398352",
   "metadata": {},
   "outputs": [],
   "source": [
    "import twint\n",
    "import nest_asyncio\n",
    "\n",
    "nest_asyncio.apply()\n"
   ]
  },
  {
   "cell_type": "code",
   "execution_count": null,
   "id": "044642db-b5ca-430d-b659-4150545d113e",
   "metadata": {},
   "outputs": [],
   "source": [
    "# Configure\n",
    "c = twint.Config()\n",
    "c.Search = '#LEGO'\n",
    "c.Limit = 20\n",
    "twint.run.Search(c)\n"
   ]
  },
  {
   "cell_type": "code",
   "execution_count": null,
   "id": "921b9cda-932b-476a-ac74-42ee0e7cb1a6",
   "metadata": {},
   "outputs": [],
   "source": [
    "pip install --user --upgrade git+https://github.com/twintproject/twint.git@origin/master#egg=twint"
   ]
  },
  {
   "cell_type": "code",
   "execution_count": 1,
   "id": "f7347abe-ff36-46f5-9fa7-d21269fc856f",
   "metadata": {},
   "outputs": [
    {
     "name": "stdout",
     "output_type": "stream",
     "text": [
      "Collecting instaloader\n",
      "  Downloading instaloader-4.9.6.tar.gz (60 kB)\n",
      "     ---------------------------------------- 60.5/60.5 kB 3.1 MB/s eta 0:00:00\n",
      "  Preparing metadata (setup.py): started\n",
      "  Preparing metadata (setup.py): finished with status 'done'\n",
      "Requirement already satisfied: requests>=2.4 in c:\\users\\hayle\\appdata\\local\\programs\\python\\python39\\lib\\site-packages (from instaloader) (2.30.0)\n",
      "Requirement already satisfied: urllib3<3,>=1.21.1 in c:\\users\\hayle\\appdata\\local\\programs\\python\\python39\\lib\\site-packages (from requests>=2.4->instaloader) (1.26.3)\n",
      "Requirement already satisfied: charset-normalizer<4,>=2 in c:\\users\\hayle\\appdata\\local\\programs\\python\\python39\\lib\\site-packages (from requests>=2.4->instaloader) (3.1.0)\n",
      "Requirement already satisfied: idna<4,>=2.5 in c:\\users\\hayle\\appdata\\local\\programs\\python\\python39\\lib\\site-packages (from requests>=2.4->instaloader) (2.10)\n",
      "Requirement already satisfied: certifi>=2017.4.17 in c:\\users\\hayle\\appdata\\local\\programs\\python\\python39\\lib\\site-packages (from requests>=2.4->instaloader) (2020.12.5)\n",
      "Building wheels for collected packages: instaloader\n",
      "  Building wheel for instaloader (setup.py): started\n",
      "  Building wheel for instaloader (setup.py): finished with status 'done'\n",
      "  Created wheel for instaloader: filename=instaloader-4.9.6-py3-none-any.whl size=62309 sha256=a46d38def0a13d621215a7f672005d53188828cf80d28c88162031227eac650d\n",
      "  Stored in directory: c:\\users\\hayle\\appdata\\local\\pip\\cache\\wheels\\17\\c8\\6f\\fd185ae255bb878d9f2bdb83f27a4a2b383583857167557aee\n",
      "Successfully built instaloader\n",
      "Installing collected packages: instaloader\n",
      "Successfully installed instaloader-4.9.6\n",
      "Note: you may need to restart the kernel to use updated packages.\n"
     ]
    },
    {
     "name": "stderr",
     "output_type": "stream",
     "text": [
      "\n",
      "[notice] A new release of pip available: 22.2.2 -> 23.1.2\n",
      "[notice] To update, run: python.exe -m pip install --upgrade pip\n"
     ]
    }
   ],
   "source": [
    "pip install instaloader"
   ]
  },
  {
   "cell_type": "code",
   "execution_count": null,
   "id": "36fc2e09-017d-48f3-9c0a-894d8d96e383",
   "metadata": {},
   "outputs": [
    {
     "name": "stdout",
     "output_type": "stream",
     "text": [
      "#LEGO\\2023-05-06_22-48-19_UTC.jpg [https://zrzutka.pl/n7srpw  #r…] json \n",
      "#LEGO\\2023-05-06_22-47-51_UTC_1.jpg #LEGO\\2023-05-06_22-47-51_UTC_2.jpg [Getting closer... #Lego #bric…] json \n",
      "#LEGO\\2023-05-06_22-47-46_UTC.jpg [Book 1 done.  MTT lego set 76…] json \n",
      "#LEGO\\2023-05-06_22-47-34_UTC_1.jpg #LEGO\\2023-05-06_22-47-34_UTC_2.jpg #LEGO\\2023-05-06_22-47-34_UTC_3.jpg #LEGO\\2023-05-06_22-47-34_UTC_4.jpg #LEGO\\2023-05-06_22-47-34_UTC_5.jpg #LEGO\\2023-05-06_22-47-34_UTC_6.jpg #LEGO\\2023-05-06_22-47-34_UTC_7.jpg #LEGO\\2023-05-06_22-47-34_UTC_8.jpg #LEGO\\2023-05-06_22-47-34_UTC_9.jpg #LEGO\\2023-05-06_22-47-34_UTC_10.jpg [Kids beds made from giant Leg…] json \n",
      "#LEGO\\2023-05-06_22-47-13_UTC.jpg exists [#photographer #photography #p…] updated [#inspiration #photo #lifestyl…] json \n",
      "#LEGO\\2023-05-06_22-46-56_UTC_1.jpg #LEGO\\2023-05-06_22-46-56_UTC_2.jpg #LEGO\\2023-05-06_22-46-56_UTC_3.jpg #LEGO\\2023-05-06_22-46-56_UTC_4.jpg [Brick-fest finally!!!  Haven’…] json \n",
      "#LEGO\\2023-05-06_22-46-41_UTC_1.jpg #LEGO\\2023-05-06_22-46-41_UTC_2.jpg #LEGO\\2023-05-06_22-46-41_UTC_3.jpg #LEGO\\2023-05-06_22-46-41_UTC_4.jpg #LEGO\\2023-05-06_22-46-41_UTC_5.jpg #LEGO\\2023-05-06_22-46-41_UTC_6.jpg [I know it's already 6th of ma…] json \n",
      "#LEGO\\2023-05-06_22-45-43_UTC.jpg [\"I used to love people so muc…] json \n",
      "#LEGO\\2023-05-06_22-44-55_UTC.jpg [#inspiration #photo #lifestyl…] json \n",
      "#LEGO\\2023-05-06_22-44-34_UTC.jpg [🔍 | New LEGO Ninjago: Dragons…] json \n",
      "#LEGO\\2023-05-06_22-44-25_UTC.jpg [The other half of the fourth …] json \n",
      "#LEGO\\2023-05-06_22-44-10_UTC.jpg [Yummy 😋🥖] json \n",
      "#LEGO\\2023-05-06_22-43-59_UTC.jpg [Space Mike 2 $10 plus shippin…] json \n",
      "#LEGO\\2023-05-06_22-43-13_UTC_1.jpg #LEGO\\2023-05-06_22-43-13_UTC_2.jpg [1999 - Lego 5905 Adventures H…] json \n",
      "#LEGO\\2023-05-06_22-42-48_UTC_1.jpg #LEGO\\2023-05-06_22-42-48_UTC_2.jpg [Pinocchio Lego Disney Minifig…] json \n",
      "#LEGO\\2023-05-06_22-42-25_UTC.jpg [Live Deal Setnummer 71407 vom…] json \n",
      "#LEGO\\2023-05-06_22-41-13_UTC_1.jpg #LEGO\\2023-05-06_22-41-13_UTC_2.jpg #LEGO\\2023-05-06_22-41-13_UTC_3.jpg #LEGO\\2023-05-06_22-41-13_UTC_4.jpg #LEGO\\2023-05-06_22-41-13_UTC_5.jpg [✨ Visions S2E1 - ‘Sith’ ✨  Re…] json \n",
      "#LEGO\\2023-05-06_22-40-57_UTC.jpg [. . スプリング・ブリック・パーティーも 今日で終わりと…] json \n",
      "#LEGO\\2023-05-06_22-40-47_UTC.jpg [Today really feels like the f…] json \n",
      "#LEGO\\2023-05-06_22-40-29_UTC_1.jpg #LEGO\\2023-05-06_22-40-29_UTC_2.jpg [Ernesto de la Cruz Lego Disne…] json \n",
      "#LEGO\\2023-05-06_22-40-08_UTC_1.jpg #LEGO\\2023-05-06_22-40-08_UTC_2.jpg #LEGO\\2023-05-06_22-40-08_UTC_3.jpg #LEGO\\2023-05-06_22-40-08_UTC_4.jpg #LEGO\\2023-05-06_22-40-08_UTC_5.jpg #LEGO\\2023-05-06_22-40-08_UTC_6.jpg #LEGO\\2023-05-06_22-40-08_UTC_7.jpg #LEGO\\2023-05-06_22-40-08_UTC_8.jpg #LEGO\\2023-05-06_22-40-08_UTC_9.jpg #LEGO\\2023-05-06_22-40-08_UTC_10.jpg [We finally made it to the dow…] json \n",
      "#LEGO\\2023-05-06_22-39-49_UTC.jpg [Space Mike $10 plus shipping …] json \n",
      "#LEGO\\2023-05-06_22-39-48_UTC.jpg [Building night... testing the…] json \n",
      "#LEGO\\2023-05-06_22-39-26_UTC.jpg [“A veces, para hacer lo corre…] json \n",
      "#LEGO\\2023-05-06_22-39-15_UTC.jpg [😞 If only this younger genera…] json \n",
      "#LEGO\\2023-05-06_22-38-55_UTC.jpg [Our Lego family ❤  #lego] json \n",
      "#LEGO\\2023-05-06_22-38-46_UTC.jpg [#Snapdragon #Lego #LegoBuild] json \n",
      "#LEGO\\2023-05-06_22-37-12_UTC_1.jpg #LEGO\\2023-05-06_22-37-12_UTC_2.jpg #LEGO\\2023-05-06_22-37-12_UTC_3.jpg #LEGO\\2023-05-06_22-37-12_UTC_4.jpg #LEGO\\2023-05-06_22-37-12_UTC_5.jpg #LEGO\\2023-05-06_22-37-12_UTC_6.jpg #LEGO\\2023-05-06_22-37-12_UTC_7.jpg #LEGO\\2023-05-06_22-37-12_UTC_8.jpg #LEGO\\2023-05-06_22-37-12_UTC_9.jpg #LEGO\\2023-05-06_22-37-12_UTC_10.jpg [MOC Kuiil Mobile Repair Speed…] json \n",
      "#LEGO\\2023-05-06_22-37-10_UTC.jpg [Revenge of the Sixth!! Mail C…] json \n",
      "#LEGO\\2023-05-06_22-36-52_UTC.jpg [VOTING IS OPEN! Flash Build C…] json \n",
      "#LEGO\\2023-05-06_22-35-52_UTC.jpg [おはよう。 今日は、何処に行こう。走る走る。 #機関車 #…] json \n",
      "#LEGO\\2023-05-06_22-35-43_UTC.jpg [Jakies &Lego Brick ❤️Disponib…] json \n",
      "#LEGO\\2023-05-06_22-35-14_UTC_1.jpg #LEGO\\2023-05-06_22-35-14_UTC_2.jpg #LEGO\\2023-05-06_22-35-14_UTC_3.jpg [Cruella de Vil & Dalmatian Le…] json \n",
      "#LEGO\\2023-05-06_22-34-30_UTC_1.jpg #LEGO\\2023-05-06_22-34-30_UTC_2.jpg #LEGO\\2023-05-06_22-34-30_UTC_3.jpg #LEGO\\2023-05-06_22-34-30_UTC_4.jpg #LEGO\\2023-05-06_22-34-30_UTC_5.jpg #LEGO\\2023-05-06_22-34-30_UTC_6.jpg #LEGO\\2023-05-06_22-34-30_UTC_7.jpg [Lego mini figuras de disney 1…] json \n",
      "#LEGO\\2023-05-06_22-33-45_UTC.jpg [#bees #lego #savethebees] json \n",
      "#LEGO\\2023-05-06_22-33-28_UTC.jpg [BD-1. #starwars #starwarsfan …] json \n",
      "#LEGO\\2023-05-06_22-33-03_UTC_1.jpg #LEGO\\2023-05-06_22-33-03_UTC_2.jpg #LEGO\\2023-05-06_22-33-03_UTC_3.jpg #LEGO\\2023-05-06_22-33-03_UTC_4.jpg #LEGO\\2023-05-06_22-33-03_UTC_5.jpg #LEGO\\2023-05-06_22-33-03_UTC_6.jpg #LEGO\\2023-05-06_22-33-03_UTC_7.jpg #LEGO\\2023-05-06_22-33-03_UTC_8.jpg [Right then, time for the big …] json \n",
      "#LEGO\\2023-05-06_22-32-43_UTC.jpg [A tattoo...grab life by the h…] json \n",
      "#LEGO\\2023-05-06_22-32-39_UTC.jpg [BD-1. #starwars #starwarsfan …] json \n",
      "#LEGO\\2023-05-06_22-32-32_UTC_1.jpg #LEGO\\2023-05-06_22-32-32_UTC_2.jpg #LEGO\\2023-05-06_22-32-32_UTC_3.jpg #LEGO\\2023-05-06_22-32-32_UTC_4.jpg #LEGO\\2023-05-06_22-32-32_UTC_5.jpg #LEGO\\2023-05-06_22-32-32_UTC_6.jpg [Undocumented mech from last y…] json \n"
     ]
    }
   ],
   "source": [
    "L = instaloader.Instaloader()\n",
    "for post in instaloader.Hashtag.from_name(L.context, 'LEGO').get_posts():\n",
    "    # post is an instance of instaloader.Post\n",
    "    L.download_post(post, target='#LEGO')"
   ]
  },
  {
   "cell_type": "code",
   "execution_count": 1,
   "id": "5067b2f1-b566-4f53-9935-b1b1d05efc00",
   "metadata": {},
   "outputs": [],
   "source": [
    "import instaloader\n",
    "import json\n",
    "from instaloader import Profile, Post\n",
    "import nest_asyncio\n",
    "\n",
    "nest_asyncio.apply()"
   ]
  },
  {
   "cell_type": "code",
   "execution_count": 23,
   "id": "9e6cc61e-e373-4a3b-80fd-d643ee418cef",
   "metadata": {},
   "outputs": [
    {
     "name": "stdout",
     "output_type": "stream",
     "text": [
      "lego\\2023-05-05_16-04-24_UTC.jpg exists [When we received footage of a…] unchanged lego\\2023-05-05_16-04-24_UTC.mp4 exists json \n",
      "lego\\2023-05-05_13-00-34_UTC.jpg exists [Go on a voyage to space and d…] unchanged lego\\2023-05-05_13-00-34_UTC.mp4 exists json \n",
      "lego\\2023-05-05_10-00-09_UTC.jpg exists [The moon is looking lovely in…] unchanged json \n",
      "lego\\2023-05-04_10-00-40_UTC_1.jpg exists lego\\2023-05-04_10-00-40_UTC_2.jpg exists lego\\2023-05-04_10-00-40_UTC_3.jpg exists lego\\2023-05-04_10-00-40_UTC_4.jpg exists lego\\2023-05-04_10-00-40_UTC_5.jpg exists lego\\2023-05-04_10-00-40_UTC_6.jpg exists lego\\2023-05-04_10-00-40_UTC_7.jpg exists lego\\2023-05-04_10-00-40_UTC_8.jpg exists lego\\2023-05-04_10-00-40_UTC_9.jpg exists lego\\2023-05-04_10-00-40_UTC_10.jpg exists [The battle between good and e…] unchanged json \n"
     ]
    }
   ],
   "source": [
    "L = instaloader.Instaloader()\n",
    "profile = Profile.from_username(L.context,'lego')\n",
    "posts = profile.get_posts()\n",
    "count = 0\n",
    "post_list = []\n",
    "\n",
    "\n",
    "for post in posts:\n",
    "    if count < 4:\n",
    "        L.download_post(post, 'lego')\n",
    "        post_params = dict()\n",
    "        comment_list = []\n",
    "        post_params['Title'] = post.title\n",
    "        post_params['Date'] = post.date_local\n",
    "        post_params['Url'] = post.url\n",
    "        post_params['Likes'] = post.likes\n",
    "        post_params['Caption'] = post.caption\n",
    "        post_params['Caption_Hashtags'] = post.caption_hashtags\n",
    "        post_list.append(post_params)\n",
    "        count=count+1\n",
    "    else:\n",
    "        break"
   ]
  },
  {
   "cell_type": "code",
   "execution_count": 24,
   "id": "f71f7cad-d9db-44e3-b04e-1695cc02ac57",
   "metadata": {},
   "outputs": [
    {
     "data": {
      "text/plain": [
       "[{'Title': '',\n",
       "  'Date': datetime.datetime(2023, 5, 5, 17, 4, 24, tzinfo=datetime.timezone(datetime.timedelta(seconds=3600), 'GMT Summer Time')),\n",
       "  'Url': 'https://scontent-lcy1-2.cdninstagram.com/v/t51.2885-15/344867243_952040929150913_228286961473239942_n.jpg?stp=dst-jpg_e15_fr_p1080x1080&_nc_ht=scontent-lcy1-2.cdninstagram.com&_nc_cat=105&_nc_ohc=NkLKXOWAD14AX-AZtvj&edm=AOQ1c0wBAAAA&ccb=7-5&oh=00_AfBdEHRFQj9VLAEZWpi_ByfqLknrfpccgcCw7u-9LH09KQ&oe=64588E51&_nc_sid=8fd12b',\n",
       "  'Likes': 27102,\n",
       "  'Caption': 'When we received footage of an incident outside Birch Books yesterday, it wasn’t quite what we expected. We also received a box of cakes tied with a blue bow and a photograph of a rare shark. If anyone can shed any light on what’s happening here, please let us know. 🎞️🤷\\n\\n#LEGO #LEGOMinifigures #WesAndersonTrend',\n",
       "  'Caption_Hashtags': ['lego', 'legominifigures', 'wesandersontrend']},\n",
       " {'Title': '',\n",
       "  'Date': datetime.datetime(2023, 5, 5, 14, 0, 34, tzinfo=datetime.timezone(datetime.timedelta(seconds=3600), 'GMT Summer Time')),\n",
       "  'Url': 'https://scontent-lcy1-1.cdninstagram.com/v/t51.2885-15/344791024_561181176172046_1726639213257848207_n.jpg?stp=dst-jpg_e15_fr_p1080x1080&_nc_ht=scontent-lcy1-1.cdninstagram.com&_nc_cat=102&_nc_ohc=1h5QRT_zXZgAX_wTgGd&edm=AOQ1c0wBAAAA&ccb=7-5&oh=00_AfCc5o0HwkRPasD7WcQY864UB_f-PXtAfeOGc42DJltVVA&oe=6458D12B&_nc_sid=8fd12b',\n",
       "  'Likes': 32572,\n",
       "  'Caption': 'Go on a voyage to space and decorate your home with some outer-worldly art 👽✨🚀\\n\\n#LEGO #LEGOIdeas',\n",
       "  'Caption_Hashtags': ['lego', 'legoideas']},\n",
       " {'Title': None,\n",
       "  'Date': datetime.datetime(2023, 5, 5, 11, 0, 9, tzinfo=datetime.timezone(datetime.timedelta(seconds=3600), 'GMT Summer Time')),\n",
       "  'Url': 'https://scontent-lcy1-1.cdninstagram.com/v/t51.2885-15/344859184_766575861635891_1703085058254353944_n.jpg?se=7&stp=dst-jpg_e35&_nc_ht=scontent-lcy1-1.cdninstagram.com&_nc_cat=1&_nc_ohc=Hj2Wx4YCuoMAX_3nZMk&edm=AOQ1c0wBAAAA&ccb=7-5&ig_cache_key=MzA5NTkwNjI1NzY4NDU3MzUzNw%3D%3D.2-ccb7-5&oh=00_AfCxoeuVFLDDgJWEhRX-VVhrlDLjlymARpRtPL2-OfuCSQ&oe=645BB2E2&_nc_sid=8fd12b',\n",
       "  'Likes': 72986,\n",
       "  'Caption': 'The moon is looking lovely in red tonight! 🌕 Hand’s up if you’ll see the lunar eclipse tonight and drop your location 📍',\n",
       "  'Caption_Hashtags': []},\n",
       " {'Title': None,\n",
       "  'Date': datetime.datetime(2023, 5, 4, 11, 0, 40, tzinfo=datetime.timezone(datetime.timedelta(seconds=3600), 'GMT Summer Time')),\n",
       "  'Url': 'https://scontent-lcy1-1.cdninstagram.com/v/t51.2885-15/344812205_767397918381337_7779126578471669880_n.jpg?stp=dst-jpg_e35&_nc_ht=scontent-lcy1-1.cdninstagram.com&_nc_cat=101&_nc_ohc=JEd4wR66vooAX95B9kd&edm=AOQ1c0wBAAAA&ccb=7-5&ig_cache_key=MzA5NTE4MTQ2MTI0NzE0NDMyOQ%3D%3D.2-ccb7-5&oh=00_AfDMWPwop3MoEMXSuj8hYPq_dg669gcRt6lRggD01j3i5Q&oe=645C5E9D&_nc_sid=8fd12b',\n",
       "  'Likes': 79321,\n",
       "  'Caption': 'The battle between good and evil is on! May the 4th be with you!\\n\\n📸: @by_a.n.n.a & @chrisrosephoto from @StuckinPlastic\\n\\n#LEGO #StarWars #AFOL #ToyPhotography',\n",
       "  'Caption_Hashtags': ['lego', 'starwars', 'afol', 'toyphotography']}]"
      ]
     },
     "execution_count": 24,
     "metadata": {},
     "output_type": "execute_result"
    }
   ],
   "source": [
    "post_list"
   ]
  },
  {
   "cell_type": "code",
   "execution_count": 25,
   "id": "37c8dc11-08b5-4e2c-9dcd-7feab355416c",
   "metadata": {},
   "outputs": [],
   "source": [
    "import pandas as pd"
   ]
  },
  {
   "cell_type": "code",
   "execution_count": 26,
   "id": "0bb0add8-ba03-488d-b674-709437f3634e",
   "metadata": {},
   "outputs": [
    {
     "data": {
      "text/html": [
       "<div>\n",
       "<style scoped>\n",
       "    .dataframe tbody tr th:only-of-type {\n",
       "        vertical-align: middle;\n",
       "    }\n",
       "\n",
       "    .dataframe tbody tr th {\n",
       "        vertical-align: top;\n",
       "    }\n",
       "\n",
       "    .dataframe thead th {\n",
       "        text-align: right;\n",
       "    }\n",
       "</style>\n",
       "<table border=\"1\" class=\"dataframe\">\n",
       "  <thead>\n",
       "    <tr style=\"text-align: right;\">\n",
       "      <th></th>\n",
       "      <th>Title</th>\n",
       "      <th>Date</th>\n",
       "      <th>Url</th>\n",
       "      <th>Likes</th>\n",
       "      <th>Caption</th>\n",
       "      <th>Caption_Hashtags</th>\n",
       "    </tr>\n",
       "  </thead>\n",
       "  <tbody>\n",
       "    <tr>\n",
       "      <th>0</th>\n",
       "      <td></td>\n",
       "      <td>2023-05-05 17:04:24+01:00</td>\n",
       "      <td>https://scontent-lcy1-2.cdninstagram.com/v/t51...</td>\n",
       "      <td>27102</td>\n",
       "      <td>When we received footage of an incident outsid...</td>\n",
       "      <td>[lego, legominifigures, wesandersontrend]</td>\n",
       "    </tr>\n",
       "    <tr>\n",
       "      <th>1</th>\n",
       "      <td></td>\n",
       "      <td>2023-05-05 14:00:34+01:00</td>\n",
       "      <td>https://scontent-lcy1-1.cdninstagram.com/v/t51...</td>\n",
       "      <td>32572</td>\n",
       "      <td>Go on a voyage to space and decorate your home...</td>\n",
       "      <td>[lego, legoideas]</td>\n",
       "    </tr>\n",
       "    <tr>\n",
       "      <th>2</th>\n",
       "      <td>None</td>\n",
       "      <td>2023-05-05 11:00:09+01:00</td>\n",
       "      <td>https://scontent-lcy1-1.cdninstagram.com/v/t51...</td>\n",
       "      <td>72986</td>\n",
       "      <td>The moon is looking lovely in red tonight! 🌕 H...</td>\n",
       "      <td>[]</td>\n",
       "    </tr>\n",
       "    <tr>\n",
       "      <th>3</th>\n",
       "      <td>None</td>\n",
       "      <td>2023-05-04 11:00:40+01:00</td>\n",
       "      <td>https://scontent-lcy1-1.cdninstagram.com/v/t51...</td>\n",
       "      <td>79321</td>\n",
       "      <td>The battle between good and evil is on! May th...</td>\n",
       "      <td>[lego, starwars, afol, toyphotography]</td>\n",
       "    </tr>\n",
       "  </tbody>\n",
       "</table>\n",
       "</div>"
      ],
      "text/plain": [
       "  Title                      Date   \n",
       "0       2023-05-05 17:04:24+01:00  \\\n",
       "1       2023-05-05 14:00:34+01:00   \n",
       "2  None 2023-05-05 11:00:09+01:00   \n",
       "3  None 2023-05-04 11:00:40+01:00   \n",
       "\n",
       "                                                 Url  Likes   \n",
       "0  https://scontent-lcy1-2.cdninstagram.com/v/t51...  27102  \\\n",
       "1  https://scontent-lcy1-1.cdninstagram.com/v/t51...  32572   \n",
       "2  https://scontent-lcy1-1.cdninstagram.com/v/t51...  72986   \n",
       "3  https://scontent-lcy1-1.cdninstagram.com/v/t51...  79321   \n",
       "\n",
       "                                             Caption   \n",
       "0  When we received footage of an incident outsid...  \\\n",
       "1  Go on a voyage to space and decorate your home...   \n",
       "2  The moon is looking lovely in red tonight! 🌕 H...   \n",
       "3  The battle between good and evil is on! May th...   \n",
       "\n",
       "                            Caption_Hashtags  \n",
       "0  [lego, legominifigures, wesandersontrend]  \n",
       "1                          [lego, legoideas]  \n",
       "2                                         []  \n",
       "3     [lego, starwars, afol, toyphotography]  "
      ]
     },
     "execution_count": 26,
     "metadata": {},
     "output_type": "execute_result"
    }
   ],
   "source": [
    "df = pd.DataFrame(post_list)\n",
    "df"
   ]
  },
  {
   "cell_type": "code",
   "execution_count": 27,
   "id": "f68faa0c-2255-48f4-b135-c4b918e4b866",
   "metadata": {},
   "outputs": [],
   "source": [
    "df.to_csv('C:/Users/hayle/Desktop/top_post.csv',index=False)"
   ]
  },
  {
   "cell_type": "code",
   "execution_count": null,
   "id": "23b44194-64f2-4f00-a53c-3c2ce01fdd4e",
   "metadata": {},
   "outputs": [],
   "source": []
  }
 ],
 "metadata": {
  "kernelspec": {
   "display_name": "Python 3",
   "language": "python",
   "name": "python3"
  },
  "language_info": {
   "codemirror_mode": {
    "name": "ipython",
    "version": 3
   },
   "file_extension": ".py",
   "mimetype": "text/x-python",
   "name": "python",
   "nbconvert_exporter": "python",
   "pygments_lexer": "ipython3",
   "version": "3.9.1"
  }
 },
 "nbformat": 4,
 "nbformat_minor": 5
}
